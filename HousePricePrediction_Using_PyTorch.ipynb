{
  "nbformat": 4,
  "nbformat_minor": 0,
  "metadata": {
    "colab": {
      "name": "HousePricePrediction Using PyTorch.ipynb",
      "provenance": [],
      "collapsed_sections": []
    },
    "kernelspec": {
      "name": "python3",
      "display_name": "Python 3"
    }
  },
  "cells": [
    {
      "cell_type": "code",
      "metadata": {
        "id": "9eKEwDkKK60R"
      },
      "source": [
        "##Kaggle House Price Prediction Using PyTorch - Tabular Dataset"
      ],
      "execution_count": 107,
      "outputs": []
    },
    {
      "cell_type": "markdown",
      "metadata": {
        "id": "DpSitEkhLIy5"
      },
      "source": [
        " - https://docs.fast.ai/tabular.html \r\n",
        " - https://www.fast.ai/2018/04/29/categorical-embeddings/ \r\n",
        " - https://www.fast.ai/2018/04/29/categorical-embeddings/ \r\n",
        " - https://yashuseth.blog/2018/07/22\r\n",
        " pytorch-neural-network-for-tabular-data-with-categorical-embeddings/"
      ]
    },
    {
      "cell_type": "code",
      "metadata": {
        "id": "sl9Xv1N7LYDd"
      },
      "source": [
        ""
      ],
      "execution_count": null,
      "outputs": []
    },
    {
      "cell_type": "code",
      "metadata": {
        "id": "hc4bXQ43posQ"
      },
      "source": [
        "import pandas as pd\r\n",
        "import numpy as np\r\n",
        "import torch"
      ],
      "execution_count": 1,
      "outputs": []
    },
    {
      "cell_type": "code",
      "metadata": {
        "id": "QobfBPe3qr_v"
      },
      "source": [
        "df = pd.read_csv(\"/content/drive/MyDrive/PyTorch/houseprice.csv\", usecols=[\"SalePrice\", \"MSSubClass\", \"MSZoning\", \"LotFrontage\", \"LotArea\",\r\n",
        "                                         \"Street\", \"YearBuilt\", \"LotShape\", \"1stFlrSF\", \"2ndFlrSF\"])"
      ],
      "execution_count": 3,
      "outputs": []
    },
    {
      "cell_type": "code",
      "metadata": {
        "colab": {
          "base_uri": "https://localhost:8080/",
          "height": 204
        },
        "id": "RWKEb4umqsGX",
        "outputId": "96d4e434-fcb6-476f-de89-32b46106a96f"
      },
      "source": [
        "df.head()"
      ],
      "execution_count": 4,
      "outputs": [
        {
          "output_type": "execute_result",
          "data": {
            "text/html": [
              "<div>\n",
              "<style scoped>\n",
              "    .dataframe tbody tr th:only-of-type {\n",
              "        vertical-align: middle;\n",
              "    }\n",
              "\n",
              "    .dataframe tbody tr th {\n",
              "        vertical-align: top;\n",
              "    }\n",
              "\n",
              "    .dataframe thead th {\n",
              "        text-align: right;\n",
              "    }\n",
              "</style>\n",
              "<table border=\"1\" class=\"dataframe\">\n",
              "  <thead>\n",
              "    <tr style=\"text-align: right;\">\n",
              "      <th></th>\n",
              "      <th>MSSubClass</th>\n",
              "      <th>MSZoning</th>\n",
              "      <th>LotFrontage</th>\n",
              "      <th>LotArea</th>\n",
              "      <th>Street</th>\n",
              "      <th>LotShape</th>\n",
              "      <th>YearBuilt</th>\n",
              "      <th>1stFlrSF</th>\n",
              "      <th>2ndFlrSF</th>\n",
              "      <th>SalePrice</th>\n",
              "    </tr>\n",
              "  </thead>\n",
              "  <tbody>\n",
              "    <tr>\n",
              "      <th>0</th>\n",
              "      <td>60</td>\n",
              "      <td>RL</td>\n",
              "      <td>65.0</td>\n",
              "      <td>8450</td>\n",
              "      <td>Pave</td>\n",
              "      <td>Reg</td>\n",
              "      <td>2003</td>\n",
              "      <td>856</td>\n",
              "      <td>854</td>\n",
              "      <td>208500</td>\n",
              "    </tr>\n",
              "    <tr>\n",
              "      <th>1</th>\n",
              "      <td>20</td>\n",
              "      <td>RL</td>\n",
              "      <td>80.0</td>\n",
              "      <td>9600</td>\n",
              "      <td>Pave</td>\n",
              "      <td>Reg</td>\n",
              "      <td>1976</td>\n",
              "      <td>1262</td>\n",
              "      <td>0</td>\n",
              "      <td>181500</td>\n",
              "    </tr>\n",
              "    <tr>\n",
              "      <th>2</th>\n",
              "      <td>60</td>\n",
              "      <td>RL</td>\n",
              "      <td>68.0</td>\n",
              "      <td>11250</td>\n",
              "      <td>Pave</td>\n",
              "      <td>IR1</td>\n",
              "      <td>2001</td>\n",
              "      <td>920</td>\n",
              "      <td>866</td>\n",
              "      <td>223500</td>\n",
              "    </tr>\n",
              "    <tr>\n",
              "      <th>3</th>\n",
              "      <td>70</td>\n",
              "      <td>RL</td>\n",
              "      <td>60.0</td>\n",
              "      <td>9550</td>\n",
              "      <td>Pave</td>\n",
              "      <td>IR1</td>\n",
              "      <td>1915</td>\n",
              "      <td>961</td>\n",
              "      <td>756</td>\n",
              "      <td>140000</td>\n",
              "    </tr>\n",
              "    <tr>\n",
              "      <th>4</th>\n",
              "      <td>60</td>\n",
              "      <td>RL</td>\n",
              "      <td>84.0</td>\n",
              "      <td>14260</td>\n",
              "      <td>Pave</td>\n",
              "      <td>IR1</td>\n",
              "      <td>2000</td>\n",
              "      <td>1145</td>\n",
              "      <td>1053</td>\n",
              "      <td>250000</td>\n",
              "    </tr>\n",
              "  </tbody>\n",
              "</table>\n",
              "</div>"
            ],
            "text/plain": [
              "   MSSubClass MSZoning  LotFrontage  ...  1stFlrSF 2ndFlrSF SalePrice\n",
              "0          60       RL         65.0  ...       856      854    208500\n",
              "1          20       RL         80.0  ...      1262        0    181500\n",
              "2          60       RL         68.0  ...       920      866    223500\n",
              "3          70       RL         60.0  ...       961      756    140000\n",
              "4          60       RL         84.0  ...      1145     1053    250000\n",
              "\n",
              "[5 rows x 10 columns]"
            ]
          },
          "metadata": {
            "tags": []
          },
          "execution_count": 4
        }
      ]
    },
    {
      "cell_type": "code",
      "metadata": {
        "colab": {
          "base_uri": "https://localhost:8080/"
        },
        "id": "I9ZZoUELqsJi",
        "outputId": "93c0d7e4-0f4d-43d7-ef10-b17cb8697720"
      },
      "source": [
        "df.isnull().sum()"
      ],
      "execution_count": 6,
      "outputs": [
        {
          "output_type": "execute_result",
          "data": {
            "text/plain": [
              "MSSubClass       0\n",
              "MSZoning         0\n",
              "LotFrontage    259\n",
              "LotArea          0\n",
              "Street           0\n",
              "LotShape         0\n",
              "YearBuilt        0\n",
              "1stFlrSF         0\n",
              "2ndFlrSF         0\n",
              "SalePrice        0\n",
              "dtype: int64"
            ]
          },
          "metadata": {
            "tags": []
          },
          "execution_count": 6
        }
      ]
    },
    {
      "cell_type": "code",
      "metadata": {
        "colab": {
          "base_uri": "https://localhost:8080/"
        },
        "id": "Oh2qUKmFqsMb",
        "outputId": "4c38b9b8-bd04-4ec1-f282-f8897a684e6b"
      },
      "source": [
        "df.shape"
      ],
      "execution_count": 7,
      "outputs": [
        {
          "output_type": "execute_result",
          "data": {
            "text/plain": [
              "(1460, 10)"
            ]
          },
          "metadata": {
            "tags": []
          },
          "execution_count": 7
        }
      ]
    },
    {
      "cell_type": "code",
      "metadata": {
        "id": "agSxNUoIqsPL"
      },
      "source": [
        "##We drop missing values from dataset \r\n",
        "df.dropna(inplace = True)"
      ],
      "execution_count": 8,
      "outputs": []
    },
    {
      "cell_type": "code",
      "metadata": {
        "colab": {
          "base_uri": "https://localhost:8080/"
        },
        "id": "CBh_z7cFqsRz",
        "outputId": "ec5fa1dd-2a16-4434-bbcd-126f91728e0b"
      },
      "source": [
        "df.info()"
      ],
      "execution_count": 9,
      "outputs": [
        {
          "output_type": "stream",
          "text": [
            "<class 'pandas.core.frame.DataFrame'>\n",
            "Int64Index: 1201 entries, 0 to 1459\n",
            "Data columns (total 10 columns):\n",
            " #   Column       Non-Null Count  Dtype  \n",
            "---  ------       --------------  -----  \n",
            " 0   MSSubClass   1201 non-null   int64  \n",
            " 1   MSZoning     1201 non-null   object \n",
            " 2   LotFrontage  1201 non-null   float64\n",
            " 3   LotArea      1201 non-null   int64  \n",
            " 4   Street       1201 non-null   object \n",
            " 5   LotShape     1201 non-null   object \n",
            " 6   YearBuilt    1201 non-null   int64  \n",
            " 7   1stFlrSF     1201 non-null   int64  \n",
            " 8   2ndFlrSF     1201 non-null   int64  \n",
            " 9   SalePrice    1201 non-null   int64  \n",
            "dtypes: float64(1), int64(6), object(3)\n",
            "memory usage: 103.2+ KB\n"
          ],
          "name": "stdout"
        }
      ]
    },
    {
      "cell_type": "code",
      "metadata": {
        "colab": {
          "base_uri": "https://localhost:8080/"
        },
        "id": "UYZJ9G88qsWl",
        "outputId": "f48b2d8c-6cf9-4451-e3b9-d499cd7b282f"
      },
      "source": [
        "for  i in df.columns:\r\n",
        "  print(\"Column names :{} and unique values : {}\".format(i, len(df[i].unique())))"
      ],
      "execution_count": 10,
      "outputs": [
        {
          "output_type": "stream",
          "text": [
            "Column names :MSSubClass and unique values : 15\n",
            "Column names :MSZoning and unique values : 5\n",
            "Column names :LotFrontage and unique values : 110\n",
            "Column names :LotArea and unique values : 869\n",
            "Column names :Street and unique values : 2\n",
            "Column names :LotShape and unique values : 4\n",
            "Column names :YearBuilt and unique values : 112\n",
            "Column names :1stFlrSF and unique values : 678\n",
            "Column names :2ndFlrSF and unique values : 368\n",
            "Column names :SalePrice and unique values : 597\n"
          ],
          "name": "stdout"
        }
      ]
    },
    {
      "cell_type": "code",
      "metadata": {
        "id": "LpOlgnp7qsau"
      },
      "source": [
        "import datetime"
      ],
      "execution_count": 11,
      "outputs": []
    },
    {
      "cell_type": "code",
      "metadata": {
        "colab": {
          "base_uri": "https://localhost:8080/"
        },
        "id": "Vh5ytyriqsdV",
        "outputId": "774a694d-81ec-45b4-a77e-cdf86c0d4387"
      },
      "source": [
        "datetime.datetime.now().year"
      ],
      "execution_count": 12,
      "outputs": [
        {
          "output_type": "execute_result",
          "data": {
            "text/plain": [
              "2021"
            ]
          },
          "metadata": {
            "tags": []
          },
          "execution_count": 12
        }
      ]
    },
    {
      "cell_type": "code",
      "metadata": {
        "id": "WZxtF3_SqsgT"
      },
      "source": [
        "df['Total Years'] = datetime.datetime.now().year - df['YearBuilt']"
      ],
      "execution_count": 13,
      "outputs": []
    },
    {
      "cell_type": "code",
      "metadata": {
        "id": "skzvdHw-qsjM"
      },
      "source": [
        "df.drop(\"YearBuilt\", axis = 1, inplace = True)"
      ],
      "execution_count": 14,
      "outputs": []
    },
    {
      "cell_type": "code",
      "metadata": {
        "colab": {
          "base_uri": "https://localhost:8080/",
          "height": 204
        },
        "id": "eN-sbkgXxbNR",
        "outputId": "cdf6405d-4bfd-430c-d2b6-7bba30f06855"
      },
      "source": [
        "df.head()"
      ],
      "execution_count": 15,
      "outputs": [
        {
          "output_type": "execute_result",
          "data": {
            "text/html": [
              "<div>\n",
              "<style scoped>\n",
              "    .dataframe tbody tr th:only-of-type {\n",
              "        vertical-align: middle;\n",
              "    }\n",
              "\n",
              "    .dataframe tbody tr th {\n",
              "        vertical-align: top;\n",
              "    }\n",
              "\n",
              "    .dataframe thead th {\n",
              "        text-align: right;\n",
              "    }\n",
              "</style>\n",
              "<table border=\"1\" class=\"dataframe\">\n",
              "  <thead>\n",
              "    <tr style=\"text-align: right;\">\n",
              "      <th></th>\n",
              "      <th>MSSubClass</th>\n",
              "      <th>MSZoning</th>\n",
              "      <th>LotFrontage</th>\n",
              "      <th>LotArea</th>\n",
              "      <th>Street</th>\n",
              "      <th>LotShape</th>\n",
              "      <th>1stFlrSF</th>\n",
              "      <th>2ndFlrSF</th>\n",
              "      <th>SalePrice</th>\n",
              "      <th>Total Years</th>\n",
              "    </tr>\n",
              "  </thead>\n",
              "  <tbody>\n",
              "    <tr>\n",
              "      <th>0</th>\n",
              "      <td>60</td>\n",
              "      <td>RL</td>\n",
              "      <td>65.0</td>\n",
              "      <td>8450</td>\n",
              "      <td>Pave</td>\n",
              "      <td>Reg</td>\n",
              "      <td>856</td>\n",
              "      <td>854</td>\n",
              "      <td>208500</td>\n",
              "      <td>18</td>\n",
              "    </tr>\n",
              "    <tr>\n",
              "      <th>1</th>\n",
              "      <td>20</td>\n",
              "      <td>RL</td>\n",
              "      <td>80.0</td>\n",
              "      <td>9600</td>\n",
              "      <td>Pave</td>\n",
              "      <td>Reg</td>\n",
              "      <td>1262</td>\n",
              "      <td>0</td>\n",
              "      <td>181500</td>\n",
              "      <td>45</td>\n",
              "    </tr>\n",
              "    <tr>\n",
              "      <th>2</th>\n",
              "      <td>60</td>\n",
              "      <td>RL</td>\n",
              "      <td>68.0</td>\n",
              "      <td>11250</td>\n",
              "      <td>Pave</td>\n",
              "      <td>IR1</td>\n",
              "      <td>920</td>\n",
              "      <td>866</td>\n",
              "      <td>223500</td>\n",
              "      <td>20</td>\n",
              "    </tr>\n",
              "    <tr>\n",
              "      <th>3</th>\n",
              "      <td>70</td>\n",
              "      <td>RL</td>\n",
              "      <td>60.0</td>\n",
              "      <td>9550</td>\n",
              "      <td>Pave</td>\n",
              "      <td>IR1</td>\n",
              "      <td>961</td>\n",
              "      <td>756</td>\n",
              "      <td>140000</td>\n",
              "      <td>106</td>\n",
              "    </tr>\n",
              "    <tr>\n",
              "      <th>4</th>\n",
              "      <td>60</td>\n",
              "      <td>RL</td>\n",
              "      <td>84.0</td>\n",
              "      <td>14260</td>\n",
              "      <td>Pave</td>\n",
              "      <td>IR1</td>\n",
              "      <td>1145</td>\n",
              "      <td>1053</td>\n",
              "      <td>250000</td>\n",
              "      <td>21</td>\n",
              "    </tr>\n",
              "  </tbody>\n",
              "</table>\n",
              "</div>"
            ],
            "text/plain": [
              "   MSSubClass MSZoning  LotFrontage  ...  2ndFlrSF SalePrice Total Years\n",
              "0          60       RL         65.0  ...       854    208500          18\n",
              "1          20       RL         80.0  ...         0    181500          45\n",
              "2          60       RL         68.0  ...       866    223500          20\n",
              "3          70       RL         60.0  ...       756    140000         106\n",
              "4          60       RL         84.0  ...      1053    250000          21\n",
              "\n",
              "[5 rows x 10 columns]"
            ]
          },
          "metadata": {
            "tags": []
          },
          "execution_count": 15
        }
      ]
    },
    {
      "cell_type": "code",
      "metadata": {
        "colab": {
          "base_uri": "https://localhost:8080/"
        },
        "id": "X4n_O7FexgjC",
        "outputId": "19cce639-a652-4dba-9595-daa6a4ad1e34"
      },
      "source": [
        "df.columns"
      ],
      "execution_count": 16,
      "outputs": [
        {
          "output_type": "execute_result",
          "data": {
            "text/plain": [
              "Index(['MSSubClass', 'MSZoning', 'LotFrontage', 'LotArea', 'Street',\n",
              "       'LotShape', '1stFlrSF', '2ndFlrSF', 'SalePrice', 'Total Years'],\n",
              "      dtype='object')"
            ]
          },
          "metadata": {
            "tags": []
          },
          "execution_count": 16
        }
      ]
    },
    {
      "cell_type": "code",
      "metadata": {
        "id": "yv9tEdNcxjbh"
      },
      "source": [
        "cat_features = ['MSSubClass', 'MSZoning','Street', 'LotShape']\r\n",
        "out_features = \"SalePrice\""
      ],
      "execution_count": 17,
      "outputs": []
    },
    {
      "cell_type": "code",
      "metadata": {
        "colab": {
          "base_uri": "https://localhost:8080/"
        },
        "id": "p46to1tYx4oD",
        "outputId": "929a0fc6-d1bc-4142-c1ef-4cbe65fba88b"
      },
      "source": [
        "from sklearn.preprocessing import LabelEncoder\r\n",
        "label_encoders = {}\r\n",
        "label_encoders['MSSubClass']  = LabelEncoder()\r\n",
        "label_encoders['MSSubClass'].fit_transform(df['MSSubClass'])"
      ],
      "execution_count": 18,
      "outputs": [
        {
          "output_type": "execute_result",
          "data": {
            "text/plain": [
              "array([5, 0, 5, ..., 6, 0, 0])"
            ]
          },
          "metadata": {
            "tags": []
          },
          "execution_count": 18
        }
      ]
    },
    {
      "cell_type": "code",
      "metadata": {
        "colab": {
          "base_uri": "https://localhost:8080/"
        },
        "id": "5gzRuZwuyvRZ",
        "outputId": "5f342735-3711-4707-9396-c8d65444c8c4"
      },
      "source": [
        "label_encoders"
      ],
      "execution_count": 19,
      "outputs": [
        {
          "output_type": "execute_result",
          "data": {
            "text/plain": [
              "{'MSSubClass': LabelEncoder()}"
            ]
          },
          "metadata": {
            "tags": []
          },
          "execution_count": 19
        }
      ]
    },
    {
      "cell_type": "code",
      "metadata": {
        "id": "iB8QZWJYzMsu"
      },
      "source": [
        "for feature in cat_features:\r\n",
        "  label_encoders[feature] = LabelEncoder()\r\n",
        "  df[feature] = label_encoders[feature].fit_transform(df[feature])"
      ],
      "execution_count": 20,
      "outputs": []
    },
    {
      "cell_type": "code",
      "metadata": {
        "colab": {
          "base_uri": "https://localhost:8080/",
          "height": 204
        },
        "id": "-qDVBZSEzkTG",
        "outputId": "59fc00b4-e688-4377-8c75-fe040b009143"
      },
      "source": [
        "df.head()"
      ],
      "execution_count": 21,
      "outputs": [
        {
          "output_type": "execute_result",
          "data": {
            "text/html": [
              "<div>\n",
              "<style scoped>\n",
              "    .dataframe tbody tr th:only-of-type {\n",
              "        vertical-align: middle;\n",
              "    }\n",
              "\n",
              "    .dataframe tbody tr th {\n",
              "        vertical-align: top;\n",
              "    }\n",
              "\n",
              "    .dataframe thead th {\n",
              "        text-align: right;\n",
              "    }\n",
              "</style>\n",
              "<table border=\"1\" class=\"dataframe\">\n",
              "  <thead>\n",
              "    <tr style=\"text-align: right;\">\n",
              "      <th></th>\n",
              "      <th>MSSubClass</th>\n",
              "      <th>MSZoning</th>\n",
              "      <th>LotFrontage</th>\n",
              "      <th>LotArea</th>\n",
              "      <th>Street</th>\n",
              "      <th>LotShape</th>\n",
              "      <th>1stFlrSF</th>\n",
              "      <th>2ndFlrSF</th>\n",
              "      <th>SalePrice</th>\n",
              "      <th>Total Years</th>\n",
              "    </tr>\n",
              "  </thead>\n",
              "  <tbody>\n",
              "    <tr>\n",
              "      <th>0</th>\n",
              "      <td>5</td>\n",
              "      <td>3</td>\n",
              "      <td>65.0</td>\n",
              "      <td>8450</td>\n",
              "      <td>1</td>\n",
              "      <td>3</td>\n",
              "      <td>856</td>\n",
              "      <td>854</td>\n",
              "      <td>208500</td>\n",
              "      <td>18</td>\n",
              "    </tr>\n",
              "    <tr>\n",
              "      <th>1</th>\n",
              "      <td>0</td>\n",
              "      <td>3</td>\n",
              "      <td>80.0</td>\n",
              "      <td>9600</td>\n",
              "      <td>1</td>\n",
              "      <td>3</td>\n",
              "      <td>1262</td>\n",
              "      <td>0</td>\n",
              "      <td>181500</td>\n",
              "      <td>45</td>\n",
              "    </tr>\n",
              "    <tr>\n",
              "      <th>2</th>\n",
              "      <td>5</td>\n",
              "      <td>3</td>\n",
              "      <td>68.0</td>\n",
              "      <td>11250</td>\n",
              "      <td>1</td>\n",
              "      <td>0</td>\n",
              "      <td>920</td>\n",
              "      <td>866</td>\n",
              "      <td>223500</td>\n",
              "      <td>20</td>\n",
              "    </tr>\n",
              "    <tr>\n",
              "      <th>3</th>\n",
              "      <td>6</td>\n",
              "      <td>3</td>\n",
              "      <td>60.0</td>\n",
              "      <td>9550</td>\n",
              "      <td>1</td>\n",
              "      <td>0</td>\n",
              "      <td>961</td>\n",
              "      <td>756</td>\n",
              "      <td>140000</td>\n",
              "      <td>106</td>\n",
              "    </tr>\n",
              "    <tr>\n",
              "      <th>4</th>\n",
              "      <td>5</td>\n",
              "      <td>3</td>\n",
              "      <td>84.0</td>\n",
              "      <td>14260</td>\n",
              "      <td>1</td>\n",
              "      <td>0</td>\n",
              "      <td>1145</td>\n",
              "      <td>1053</td>\n",
              "      <td>250000</td>\n",
              "      <td>21</td>\n",
              "    </tr>\n",
              "  </tbody>\n",
              "</table>\n",
              "</div>"
            ],
            "text/plain": [
              "   MSSubClass  MSZoning  LotFrontage  ...  2ndFlrSF  SalePrice  Total Years\n",
              "0           5         3         65.0  ...       854     208500           18\n",
              "1           0         3         80.0  ...         0     181500           45\n",
              "2           5         3         68.0  ...       866     223500           20\n",
              "3           6         3         60.0  ...       756     140000          106\n",
              "4           5         3         84.0  ...      1053     250000           21\n",
              "\n",
              "[5 rows x 10 columns]"
            ]
          },
          "metadata": {
            "tags": []
          },
          "execution_count": 21
        }
      ]
    },
    {
      "cell_type": "code",
      "metadata": {
        "colab": {
          "base_uri": "https://localhost:8080/"
        },
        "id": "w6crq08LtLQi",
        "outputId": "ad4457b4-7d5e-4a16-a085-a9072f3ec791"
      },
      "source": [
        "label_encoders"
      ],
      "execution_count": 39,
      "outputs": [
        {
          "output_type": "execute_result",
          "data": {
            "text/plain": [
              "{'LotShape': LabelEncoder(),\n",
              " 'MSSubClass': LabelEncoder(),\n",
              " 'MSZoning': LabelEncoder(),\n",
              " 'Street': LabelEncoder()}"
            ]
          },
          "metadata": {
            "tags": []
          },
          "execution_count": 39
        }
      ]
    },
    {
      "cell_type": "code",
      "metadata": {
        "colab": {
          "base_uri": "https://localhost:8080/"
        },
        "id": "GoOThudrzlaj",
        "outputId": "a2092e79-20a1-4d3a-be7f-d86f17d4a2f1"
      },
      "source": [
        "#Now stacking and converting features into tensors\r\n",
        "cat_features = np.stack([df['MSSubClass'], df['MSZoning'], df['Street'], df['LotShape']], 1)\r\n",
        "cat_features"
      ],
      "execution_count": 40,
      "outputs": [
        {
          "output_type": "execute_result",
          "data": {
            "text/plain": [
              "array([[5, 3, 1, 3],\n",
              "       [0, 3, 1, 3],\n",
              "       [5, 3, 1, 0],\n",
              "       ...,\n",
              "       [6, 3, 1, 3],\n",
              "       [0, 3, 1, 3],\n",
              "       [0, 3, 1, 3]])"
            ]
          },
          "metadata": {
            "tags": []
          },
          "execution_count": 40
        }
      ]
    },
    {
      "cell_type": "code",
      "metadata": {
        "id": "9MfcjG6x1Z9v"
      },
      "source": [
        "##Convert numpy into tensors\r\n",
        "import torch\r\n",
        "cat_features = torch.tensor(cat_features, dtype = torch.int64)"
      ],
      "execution_count": 41,
      "outputs": []
    },
    {
      "cell_type": "code",
      "metadata": {
        "colab": {
          "base_uri": "https://localhost:8080/"
        },
        "id": "bMqWYY-p1aAW",
        "outputId": "137ee6cf-9070-4128-a6c6-e63c0b2496e2"
      },
      "source": [
        "cat_features"
      ],
      "execution_count": 42,
      "outputs": [
        {
          "output_type": "execute_result",
          "data": {
            "text/plain": [
              "tensor([[5, 3, 1, 3],\n",
              "        [0, 3, 1, 3],\n",
              "        [5, 3, 1, 0],\n",
              "        ...,\n",
              "        [6, 3, 1, 3],\n",
              "        [0, 3, 1, 3],\n",
              "        [0, 3, 1, 3]])"
            ]
          },
          "metadata": {
            "tags": []
          },
          "execution_count": 42
        }
      ]
    },
    {
      "cell_type": "code",
      "metadata": {
        "id": "QBiW2Ely1aEc"
      },
      "source": [
        "#create continuous features\r\n",
        "conti_features = []\r\n",
        "for i in df.columns:\r\n",
        "  if i in [\"MSSubClass\", \"MSZoning\", \"Street\", \"LotShape\", \"SalePrice\"]:\r\n",
        "    pass\r\n",
        "  else:\r\n",
        "    conti_features.append(i)"
      ],
      "execution_count": 32,
      "outputs": []
    },
    {
      "cell_type": "code",
      "metadata": {
        "id": "Y3KSRdGK1aIZ",
        "colab": {
          "base_uri": "https://localhost:8080/"
        },
        "outputId": "132f4aa0-a647-4c1b-bd16-f99805ccba96"
      },
      "source": [
        "conti_features"
      ],
      "execution_count": 33,
      "outputs": [
        {
          "output_type": "execute_result",
          "data": {
            "text/plain": [
              "['LotFrontage', 'LotArea', '1stFlrSF', '2ndFlrSF', 'Total Years']"
            ]
          },
          "metadata": {
            "tags": []
          },
          "execution_count": 33
        }
      ]
    },
    {
      "cell_type": "code",
      "metadata": {
        "id": "qSVsyzRk1aL7",
        "colab": {
          "base_uri": "https://localhost:8080/"
        },
        "outputId": "e14fc606-1a48-49b8-c76c-c8f27b5e29a3"
      },
      "source": [
        "#Stacking and create tensors of contiuous features\r\n",
        "conti_values = np.stack([df[i].values for i in conti_features], axis = 1)\r\n",
        "conti_values"
      ],
      "execution_count": 43,
      "outputs": [
        {
          "output_type": "execute_result",
          "data": {
            "text/plain": [
              "array([[   65.,  8450.,   856.,   854.,    18.],\n",
              "       [   80.,  9600.,  1262.,     0.,    45.],\n",
              "       [   68., 11250.,   920.,   866.,    20.],\n",
              "       ...,\n",
              "       [   66.,  9042.,  1188.,  1152.,    80.],\n",
              "       [   68.,  9717.,  1078.,     0.,    71.],\n",
              "       [   75.,  9937.,  1256.,     0.,    56.]])"
            ]
          },
          "metadata": {
            "tags": []
          },
          "execution_count": 43
        }
      ]
    },
    {
      "cell_type": "code",
      "metadata": {
        "id": "eHLBUdyr1aQP"
      },
      "source": [
        "conti_values = torch.tensor(conti_values, dtype = torch.float)"
      ],
      "execution_count": 44,
      "outputs": []
    },
    {
      "cell_type": "code",
      "metadata": {
        "id": "7kuFLaHL1aVK",
        "colab": {
          "base_uri": "https://localhost:8080/"
        },
        "outputId": "14093edf-b898-40b6-de01-a95661b27a2b"
      },
      "source": [
        "conti_values"
      ],
      "execution_count": 45,
      "outputs": [
        {
          "output_type": "execute_result",
          "data": {
            "text/plain": [
              "tensor([[   65.,  8450.,   856.,   854.,    18.],\n",
              "        [   80.,  9600.,  1262.,     0.,    45.],\n",
              "        [   68., 11250.,   920.,   866.,    20.],\n",
              "        ...,\n",
              "        [   66.,  9042.,  1188.,  1152.,    80.],\n",
              "        [   68.,  9717.,  1078.,     0.,    71.],\n",
              "        [   75.,  9937.,  1256.,     0.,    56.]])"
            ]
          },
          "metadata": {
            "tags": []
          },
          "execution_count": 45
        }
      ]
    },
    {
      "cell_type": "code",
      "metadata": {
        "id": "ClRsHdA71aYb",
        "colab": {
          "base_uri": "https://localhost:8080/"
        },
        "outputId": "f7835d3c-effb-45b5-f2c4-7bfae10707ab"
      },
      "source": [
        "#Create dependent feature\r\n",
        "y = torch.tensor(df[\"SalePrice\"].values, dtype = torch.float).reshape(-1,1)\r\n",
        "y"
      ],
      "execution_count": 46,
      "outputs": [
        {
          "output_type": "execute_result",
          "data": {
            "text/plain": [
              "tensor([[208500.],\n",
              "        [181500.],\n",
              "        [223500.],\n",
              "        ...,\n",
              "        [266500.],\n",
              "        [142125.],\n",
              "        [147500.]])"
            ]
          },
          "metadata": {
            "tags": []
          },
          "execution_count": 46
        }
      ]
    },
    {
      "cell_type": "code",
      "metadata": {
        "id": "Hu-8OKZR1acg",
        "colab": {
          "base_uri": "https://localhost:8080/"
        },
        "outputId": "1ee2b2ee-c545-4536-8ba4-7ed762b9eb81"
      },
      "source": [
        "##Categorical , continuous and target features\r\n",
        "cat_features.shape, conti_values.shape, y.shape"
      ],
      "execution_count": 50,
      "outputs": [
        {
          "output_type": "execute_result",
          "data": {
            "text/plain": [
              "(torch.Size([1201, 4]), torch.Size([1201, 5]), torch.Size([1201, 1]))"
            ]
          },
          "metadata": {
            "tags": []
          },
          "execution_count": 50
        }
      ]
    },
    {
      "cell_type": "code",
      "metadata": {
        "id": "Em3MOLfG1agO",
        "colab": {
          "base_uri": "https://localhost:8080/"
        },
        "outputId": "4dc8cc89-3f76-4e87-879e-648ade1afee0"
      },
      "source": [
        "len(df['MSSubClass'].unique())"
      ],
      "execution_count": 49,
      "outputs": [
        {
          "output_type": "execute_result",
          "data": {
            "text/plain": [
              "15"
            ]
          },
          "metadata": {
            "tags": []
          },
          "execution_count": 49
        }
      ]
    },
    {
      "cell_type": "code",
      "metadata": {
        "id": "WRYZERt41akk"
      },
      "source": [
        "#Embedding Size for Categorical Features\r\n",
        "cat_dims = [len(df[col].unique()) for col in [\"MSSubClass\", \"MSZoning\", \"Street\", \"LotShape\"]]"
      ],
      "execution_count": 51,
      "outputs": []
    },
    {
      "cell_type": "code",
      "metadata": {
        "id": "-LRSgPio1aoS",
        "colab": {
          "base_uri": "https://localhost:8080/"
        },
        "outputId": "3a88611e-970b-4ef6-824c-1b4004bd683c"
      },
      "source": [
        "cat_dims ##input dims for embedding layer"
      ],
      "execution_count": 52,
      "outputs": [
        {
          "output_type": "execute_result",
          "data": {
            "text/plain": [
              "[15, 5, 2, 4]"
            ]
          },
          "metadata": {
            "tags": []
          },
          "execution_count": 52
        }
      ]
    },
    {
      "cell_type": "code",
      "metadata": {
        "id": "ynmC_4zR1asQ"
      },
      "source": [
        "#Thumb rule : Output dimension should be set based on the input dimension \r\n",
        "# (min(50, feature + 1 //2))\r\n",
        "embedding_dim = [(x, min(50, (x + 1)// 2)) for x in cat_dims]"
      ],
      "execution_count": 56,
      "outputs": []
    },
    {
      "cell_type": "code",
      "metadata": {
        "id": "XdLN-aDx1avk",
        "colab": {
          "base_uri": "https://localhost:8080/"
        },
        "outputId": "ed993fa7-5807-4f36-c9c3-a88fae55ba54"
      },
      "source": [
        "embedding_dim"
      ],
      "execution_count": 57,
      "outputs": [
        {
          "output_type": "execute_result",
          "data": {
            "text/plain": [
              "[(15, 8), (5, 3), (2, 1), (4, 2)]"
            ]
          },
          "metadata": {
            "tags": []
          },
          "execution_count": 57
        }
      ]
    },
    {
      "cell_type": "code",
      "metadata": {
        "id": "3q-xneMs1azc"
      },
      "source": [
        "import torch \r\n",
        "import torch.nn as nn\r\n",
        "import torch.nn.functional as func"
      ],
      "execution_count": 58,
      "outputs": []
    },
    {
      "cell_type": "code",
      "metadata": {
        "colab": {
          "base_uri": "https://localhost:8080/"
        },
        "id": "_jbDksc7xoxP",
        "outputId": "e97909d0-957e-42c1-a912-0875348d3366"
      },
      "source": [
        "embed_representation = nn.ModuleList([nn.Embedding(inp, out) for (inp, out) in embedding_dim])\r\n",
        "embed_representation"
      ],
      "execution_count": 59,
      "outputs": [
        {
          "output_type": "execute_result",
          "data": {
            "text/plain": [
              "ModuleList(\n",
              "  (0): Embedding(15, 8)\n",
              "  (1): Embedding(5, 3)\n",
              "  (2): Embedding(2, 1)\n",
              "  (3): Embedding(4, 2)\n",
              ")"
            ]
          },
          "metadata": {
            "tags": []
          },
          "execution_count": 59
        }
      ]
    },
    {
      "cell_type": "code",
      "metadata": {
        "colab": {
          "base_uri": "https://localhost:8080/"
        },
        "id": "Cf9rjBnHxo1r",
        "outputId": "bdfe2305-e3e0-4a6f-8ce3-f3a09c7a2eae"
      },
      "source": [
        "cat_features"
      ],
      "execution_count": 60,
      "outputs": [
        {
          "output_type": "execute_result",
          "data": {
            "text/plain": [
              "tensor([[5, 3, 1, 3],\n",
              "        [0, 3, 1, 3],\n",
              "        [5, 3, 1, 0],\n",
              "        ...,\n",
              "        [6, 3, 1, 3],\n",
              "        [0, 3, 1, 3],\n",
              "        [0, 3, 1, 3]])"
            ]
          },
          "metadata": {
            "tags": []
          },
          "execution_count": 60
        }
      ]
    },
    {
      "cell_type": "code",
      "metadata": {
        "colab": {
          "base_uri": "https://localhost:8080/"
        },
        "id": "KNgzJ6Akxo7Z",
        "outputId": "315ca7f5-3e7d-42ba-81cb-5f559f0d6a58"
      },
      "source": [
        "#Taking only 4 records of catgorical features\r\n",
        "cat_feat = cat_features[:4]\r\n",
        "cat_feat"
      ],
      "execution_count": 62,
      "outputs": [
        {
          "output_type": "execute_result",
          "data": {
            "text/plain": [
              "tensor([[5, 3, 1, 3],\n",
              "        [0, 3, 1, 3],\n",
              "        [5, 3, 1, 0],\n",
              "        [6, 3, 1, 0]])"
            ]
          },
          "metadata": {
            "tags": []
          },
          "execution_count": 62
        }
      ]
    },
    {
      "cell_type": "code",
      "metadata": {
        "id": "GMWtcwyjxo-5"
      },
      "source": [
        "#Now we will convert embeded features into vector form\r\n",
        "pd.set_option(\"display.max_rows\", 500)"
      ],
      "execution_count": 63,
      "outputs": []
    },
    {
      "cell_type": "code",
      "metadata": {
        "id": "MkiBSzK1xpF1"
      },
      "source": [
        "embedded_val = []\r\n",
        "for i, e in enumerate(embed_representation):\r\n",
        "  embedded_val.append(e(cat_features[:, i]))"
      ],
      "execution_count": 64,
      "outputs": []
    },
    {
      "cell_type": "code",
      "metadata": {
        "colab": {
          "base_uri": "https://localhost:8080/"
        },
        "id": "zYTEKnF3xpKS",
        "outputId": "9e68555e-0ef6-4219-f588-19962632786d"
      },
      "source": [
        "embedded_val"
      ],
      "execution_count": 65,
      "outputs": [
        {
          "output_type": "execute_result",
          "data": {
            "text/plain": [
              "[tensor([[-1.2928e+00, -6.0614e-01,  1.6319e-03,  ...,  1.7182e+00,\n",
              "          -6.5434e-01,  1.6096e-01],\n",
              "         [-1.5514e-01, -1.2203e+00,  1.4950e+00,  ...,  9.0881e-01,\n",
              "           4.9549e-01,  4.3135e-01],\n",
              "         [-1.2928e+00, -6.0614e-01,  1.6319e-03,  ...,  1.7182e+00,\n",
              "          -6.5434e-01,  1.6096e-01],\n",
              "         ...,\n",
              "         [ 1.0298e+00, -1.3653e+00,  1.2635e+00,  ..., -5.6544e-02,\n",
              "           1.1097e+00,  9.7960e-01],\n",
              "         [-1.5514e-01, -1.2203e+00,  1.4950e+00,  ...,  9.0881e-01,\n",
              "           4.9549e-01,  4.3135e-01],\n",
              "         [-1.5514e-01, -1.2203e+00,  1.4950e+00,  ...,  9.0881e-01,\n",
              "           4.9549e-01,  4.3135e-01]], grad_fn=<EmbeddingBackward>),\n",
              " tensor([[-0.8777, -0.9589, -1.1663],\n",
              "         [-0.8777, -0.9589, -1.1663],\n",
              "         [-0.8777, -0.9589, -1.1663],\n",
              "         ...,\n",
              "         [-0.8777, -0.9589, -1.1663],\n",
              "         [-0.8777, -0.9589, -1.1663],\n",
              "         [-0.8777, -0.9589, -1.1663]], grad_fn=<EmbeddingBackward>),\n",
              " tensor([[0.0632],\n",
              "         [0.0632],\n",
              "         [0.0632],\n",
              "         ...,\n",
              "         [0.0632],\n",
              "         [0.0632],\n",
              "         [0.0632]], grad_fn=<EmbeddingBackward>),\n",
              " tensor([[1.8107, 0.7781],\n",
              "         [1.8107, 0.7781],\n",
              "         [1.0483, 2.2237],\n",
              "         ...,\n",
              "         [1.8107, 0.7781],\n",
              "         [1.8107, 0.7781],\n",
              "         [1.8107, 0.7781]], grad_fn=<EmbeddingBackward>)]"
            ]
          },
          "metadata": {
            "tags": []
          },
          "execution_count": 65
        }
      ]
    },
    {
      "cell_type": "code",
      "metadata": {
        "id": "gQA7HhdExpPP"
      },
      "source": [
        "z = torch.cat(embedded_val, 1)"
      ],
      "execution_count": 68,
      "outputs": []
    },
    {
      "cell_type": "code",
      "metadata": {
        "colab": {
          "base_uri": "https://localhost:8080/"
        },
        "id": "dD16Sx-HxpT0",
        "outputId": "3c6774dc-9b9f-46c9-dec6-9fb7cecd85b7"
      },
      "source": [
        "z"
      ],
      "execution_count": 69,
      "outputs": [
        {
          "output_type": "execute_result",
          "data": {
            "text/plain": [
              "tensor([[-1.2928e+00, -6.0614e-01,  1.6319e-03,  ...,  6.3227e-02,\n",
              "          1.8107e+00,  7.7811e-01],\n",
              "        [-1.5514e-01, -1.2203e+00,  1.4950e+00,  ...,  6.3227e-02,\n",
              "          1.8107e+00,  7.7811e-01],\n",
              "        [-1.2928e+00, -6.0614e-01,  1.6319e-03,  ...,  6.3227e-02,\n",
              "          1.0483e+00,  2.2237e+00],\n",
              "        ...,\n",
              "        [ 1.0298e+00, -1.3653e+00,  1.2635e+00,  ...,  6.3227e-02,\n",
              "          1.8107e+00,  7.7811e-01],\n",
              "        [-1.5514e-01, -1.2203e+00,  1.4950e+00,  ...,  6.3227e-02,\n",
              "          1.8107e+00,  7.7811e-01],\n",
              "        [-1.5514e-01, -1.2203e+00,  1.4950e+00,  ...,  6.3227e-02,\n",
              "          1.8107e+00,  7.7811e-01]], grad_fn=<CatBackward>)"
            ]
          },
          "metadata": {
            "tags": []
          },
          "execution_count": 69
        }
      ]
    },
    {
      "cell_type": "code",
      "metadata": {
        "id": "l2KBqx87xpXk"
      },
      "source": [
        "#Note that :- All above embedding representation steps happening in the nn\r\n",
        "##To prevent from overfittig we Implement dropout\r\n",
        "\r\n",
        "dropout = nn.Dropout(.4)"
      ],
      "execution_count": 71,
      "outputs": []
    },
    {
      "cell_type": "code",
      "metadata": {
        "colab": {
          "base_uri": "https://localhost:8080/"
        },
        "id": "44_Z-zC56_S-",
        "outputId": "2d043811-604c-4a43-cc99-88884e5873c1"
      },
      "source": [
        "final_dropout = dropout(z)\r\n",
        "final_dropout"
      ],
      "execution_count": 72,
      "outputs": [
        {
          "output_type": "execute_result",
          "data": {
            "text/plain": [
              "tensor([[-0.0000e+00, -0.0000e+00,  2.7199e-03,  ...,  1.0538e-01,\n",
              "          0.0000e+00,  0.0000e+00],\n",
              "        [-2.5856e-01, -2.0338e+00,  2.4916e+00,  ...,  1.0538e-01,\n",
              "          3.0179e+00,  1.2968e+00],\n",
              "        [-0.0000e+00, -1.0102e+00,  2.7199e-03,  ...,  0.0000e+00,\n",
              "          0.0000e+00,  0.0000e+00],\n",
              "        ...,\n",
              "        [ 0.0000e+00, -2.2755e+00,  2.1058e+00,  ...,  0.0000e+00,\n",
              "          3.0179e+00,  1.2968e+00],\n",
              "        [-2.5856e-01, -2.0338e+00,  2.4916e+00,  ...,  0.0000e+00,\n",
              "          3.0179e+00,  0.0000e+00],\n",
              "        [-2.5856e-01, -0.0000e+00,  2.4916e+00,  ...,  1.0538e-01,\n",
              "          0.0000e+00,  0.0000e+00]], grad_fn=<MulBackward0>)"
            ]
          },
          "metadata": {
            "tags": []
          },
          "execution_count": 72
        }
      ]
    },
    {
      "cell_type": "code",
      "metadata": {
        "id": "8vj0aHWY6_eX"
      },
      "source": [
        "#Now create feed forward NN\r\n",
        "import torch\r\n",
        "import torch.nn as nn\r\n",
        "import torch.nn.functional as func\r\n",
        "\r\n",
        "class feedforwardNN(nn.Module):\r\n",
        "  def __init__(self, embedding_dim, n_cont, out_sz, layers, p = 0.5):\r\n",
        "    super().__init__()\r\n",
        "    self.embeds = nn.ModuleList([nn.Embedding(inp, out) for inp, out in embedding_dim])\r\n",
        "    self.emb_drop = nn.Dropout(p)\r\n",
        "    self.bn_cont = nn.BatchNorm1d(n_cont)\r\n",
        "\r\n",
        "    layerlist = []\r\n",
        "    n_emb = sum((out for inp, out in embedding_dim))\r\n",
        "    n_in = n_emb + n_cont #embedding value + continuous value\r\n",
        " \r\n",
        "    for i in layers:\r\n",
        "      layerlist.append(nn.Linear(n_in, i))\r\n",
        "      layerlist.append(nn.ReLU(inplace = True))\r\n",
        "      layerlist.append(nn.BatchNorm1d(i))\r\n",
        "      layerlist.append(nn.Dropout(p))\r\n",
        "      n_in = i\r\n",
        "    \r\n",
        "    layerlist.append(nn.Linear(layers[-1], out_sz))\r\n",
        "\r\n",
        "    self.layers = nn.Sequential(*layerlist)\r\n",
        "\r\n",
        "  def forward(self, x_cat, x_cont):\r\n",
        "    embeddings = []\r\n",
        "    for i, e in enumerate(self.embeds):\r\n",
        "      embeddings.append(e(x_cat[:, i]))\r\n",
        "    \r\n",
        "    x = torch.cat(embeddings, 1)\r\n",
        "    x = self.emb_drop(x)\r\n",
        "\r\n",
        "    x_cont = self.bn_cont(x_cont)\r\n",
        "    x = torch.cat([x, x_cont], 1)\r\n",
        "    x = self.layers(x)\r\n",
        "    return x\r\n"
      ],
      "execution_count": 74,
      "outputs": []
    },
    {
      "cell_type": "code",
      "metadata": {
        "colab": {
          "base_uri": "https://localhost:8080/"
        },
        "id": "2d5Oi_QI6_mg",
        "outputId": "19760fbe-7d8f-45e1-a655-1edfcb4edff3"
      },
      "source": [
        "len(conti_features)"
      ],
      "execution_count": 75,
      "outputs": [
        {
          "output_type": "execute_result",
          "data": {
            "text/plain": [
              "5"
            ]
          },
          "metadata": {
            "tags": []
          },
          "execution_count": 75
        }
      ]
    },
    {
      "cell_type": "code",
      "metadata": {
        "id": "AKGXUn3R6_tl"
      },
      "source": [
        "torch.manual_seed(500)\r\n",
        "model = feedforwardNN(embedding_dim, len(conti_features), 1, [100, 50], p = 0.4)"
      ],
      "execution_count": 76,
      "outputs": []
    },
    {
      "cell_type": "code",
      "metadata": {
        "colab": {
          "base_uri": "https://localhost:8080/"
        },
        "id": "oD_A408O6_2B",
        "outputId": "a8760036-b109-4987-ccb1-f86f6d194fac"
      },
      "source": [
        "model"
      ],
      "execution_count": 77,
      "outputs": [
        {
          "output_type": "execute_result",
          "data": {
            "text/plain": [
              "feedforwardNN(\n",
              "  (embeds): ModuleList(\n",
              "    (0): Embedding(15, 8)\n",
              "    (1): Embedding(5, 3)\n",
              "    (2): Embedding(2, 1)\n",
              "    (3): Embedding(4, 2)\n",
              "  )\n",
              "  (emb_drop): Dropout(p=0.4, inplace=False)\n",
              "  (bn_cont): BatchNorm1d(5, eps=1e-05, momentum=0.1, affine=True, track_running_stats=True)\n",
              "  (layers): Sequential(\n",
              "    (0): Linear(in_features=19, out_features=100, bias=True)\n",
              "    (1): ReLU(inplace=True)\n",
              "    (2): BatchNorm1d(100, eps=1e-05, momentum=0.1, affine=True, track_running_stats=True)\n",
              "    (3): Dropout(p=0.4, inplace=False)\n",
              "    (4): Linear(in_features=100, out_features=50, bias=True)\n",
              "    (5): ReLU(inplace=True)\n",
              "    (6): BatchNorm1d(50, eps=1e-05, momentum=0.1, affine=True, track_running_stats=True)\n",
              "    (7): Dropout(p=0.4, inplace=False)\n",
              "    (8): Linear(in_features=50, out_features=1, bias=True)\n",
              "  )\n",
              ")"
            ]
          },
          "metadata": {
            "tags": []
          },
          "execution_count": 77
        }
      ]
    },
    {
      "cell_type": "code",
      "metadata": {
        "colab": {
          "base_uri": "https://localhost:8080/"
        },
        "id": "1V5aARgnxpco",
        "outputId": "48d334da-1424-4082-9400-ff9a51bd5b50"
      },
      "source": [
        "model.parameters"
      ],
      "execution_count": 84,
      "outputs": [
        {
          "output_type": "execute_result",
          "data": {
            "text/plain": [
              "<bound method Module.parameters of feedforwardNN(\n",
              "  (embeds): ModuleList(\n",
              "    (0): Embedding(15, 8)\n",
              "    (1): Embedding(5, 3)\n",
              "    (2): Embedding(2, 1)\n",
              "    (3): Embedding(4, 2)\n",
              "  )\n",
              "  (emb_drop): Dropout(p=0.4, inplace=False)\n",
              "  (bn_cont): BatchNorm1d(5, eps=1e-05, momentum=0.1, affine=True, track_running_stats=True)\n",
              "  (layers): Sequential(\n",
              "    (0): Linear(in_features=19, out_features=100, bias=True)\n",
              "    (1): ReLU(inplace=True)\n",
              "    (2): BatchNorm1d(100, eps=1e-05, momentum=0.1, affine=True, track_running_stats=True)\n",
              "    (3): Dropout(p=0.4, inplace=False)\n",
              "    (4): Linear(in_features=100, out_features=50, bias=True)\n",
              "    (5): ReLU(inplace=True)\n",
              "    (6): BatchNorm1d(50, eps=1e-05, momentum=0.1, affine=True, track_running_stats=True)\n",
              "    (7): Dropout(p=0.4, inplace=False)\n",
              "    (8): Linear(in_features=50, out_features=1, bias=True)\n",
              "  )\n",
              ")>"
            ]
          },
          "metadata": {
            "tags": []
          },
          "execution_count": 84
        }
      ]
    },
    {
      "cell_type": "code",
      "metadata": {
        "id": "HCfY3EDuFJ47"
      },
      "source": [
        "##Define Loss and Optimizers\r\n",
        "loss_function = nn.MSELoss()\r\n",
        "optimizer = torch.optim.Adam(model.parameters(), lr = 0.01)"
      ],
      "execution_count": 82,
      "outputs": []
    },
    {
      "cell_type": "code",
      "metadata": {
        "colab": {
          "base_uri": "https://localhost:8080/"
        },
        "id": "QYm2dabLFJ9L",
        "outputId": "475202a7-a255-4040-9011-8cda55f1342e"
      },
      "source": [
        "df.shape"
      ],
      "execution_count": 81,
      "outputs": [
        {
          "output_type": "execute_result",
          "data": {
            "text/plain": [
              "(1201, 10)"
            ]
          },
          "metadata": {
            "tags": []
          },
          "execution_count": 81
        }
      ]
    },
    {
      "cell_type": "code",
      "metadata": {
        "colab": {
          "base_uri": "https://localhost:8080/"
        },
        "id": "EgaPLA6aFKC1",
        "outputId": "66349294-9b22-4331-ceb9-6cf34b0f52c8"
      },
      "source": [
        "conti_values"
      ],
      "execution_count": 85,
      "outputs": [
        {
          "output_type": "execute_result",
          "data": {
            "text/plain": [
              "tensor([[   65.,  8450.,   856.,   854.,    18.],\n",
              "        [   80.,  9600.,  1262.,     0.,    45.],\n",
              "        [   68., 11250.,   920.,   866.,    20.],\n",
              "        ...,\n",
              "        [   66.,  9042.,  1188.,  1152.,    80.],\n",
              "        [   68.,  9717.,  1078.,     0.,    71.],\n",
              "        [   75.,  9937.,  1256.,     0.,    56.]])"
            ]
          },
          "metadata": {
            "tags": []
          },
          "execution_count": 85
        }
      ]
    },
    {
      "cell_type": "code",
      "metadata": {
        "colab": {
          "base_uri": "https://localhost:8080/"
        },
        "id": "SdoUK3QnFKHv",
        "outputId": "35f17f2c-8742-4330-e716-e5da9ef100cd"
      },
      "source": [
        "conti_values.shape"
      ],
      "execution_count": 86,
      "outputs": [
        {
          "output_type": "execute_result",
          "data": {
            "text/plain": [
              "torch.Size([1201, 5])"
            ]
          },
          "metadata": {
            "tags": []
          },
          "execution_count": 86
        }
      ]
    },
    {
      "cell_type": "code",
      "metadata": {
        "id": "cF7CmvqYFKMw"
      },
      "source": [
        "##Train test split\r\n",
        "batch_size = 1200\r\n",
        "test_size = int(batch_size * 0.15)\r\n",
        "train_categorical = cat_features[:batch_size - test_size]\r\n",
        "test_categorical = cat_features[batch_size - test_size : batch_size]\r\n",
        "train_cont = conti_values[: batch_size - test_size]\r\n",
        "test_cont = conti_values[batch_size - test_size : batch_size]\r\n",
        "y_train = y[: batch_size - test_size]\r\n",
        "y_test = y[batch_size - test_size: batch_size]"
      ],
      "execution_count": 90,
      "outputs": []
    },
    {
      "cell_type": "code",
      "metadata": {
        "colab": {
          "base_uri": "https://localhost:8080/"
        },
        "id": "_EkRWAepFKTN",
        "outputId": "7b628fe2-3f42-4db9-8bd5-fbb8bce19623"
      },
      "source": [
        "len(train_categorical), len(test_categorical), len(train_cont), len(test_cont),len(y_train), len(y_test)"
      ],
      "execution_count": 91,
      "outputs": [
        {
          "output_type": "execute_result",
          "data": {
            "text/plain": [
              "(1020, 180, 1020, 180, 1020, 180)"
            ]
          },
          "metadata": {
            "tags": []
          },
          "execution_count": 91
        }
      ]
    },
    {
      "cell_type": "code",
      "metadata": {
        "colab": {
          "base_uri": "https://localhost:8080/"
        },
        "id": "8wmdLHixFKYe",
        "outputId": "98989be7-fa58-43ab-a1c9-185bf08028e7"
      },
      "source": [
        "epochs = 5000\r\n",
        "final_losses = []\r\n",
        "for i in range(epochs):\r\n",
        "  i = i + 1\r\n",
        "  y_pred = model(train_categorical, train_cont)\r\n",
        "  loss = torch.sqrt(loss_function(y_pred, y_train)) #RMSE\r\n",
        "  final_losses.append(loss)\r\n",
        "  if i % 10 == 1:\r\n",
        "    print(\"Epoch number : {} and the loss : {}\".format(i, loss.item()))\r\n",
        "  optimizer.zero_grad() #reset optimizers \r\n",
        "  loss.backward() #backproparagation\r\n",
        "  optimizer.step( )"
      ],
      "execution_count": 92,
      "outputs": [
        {
          "output_type": "stream",
          "text": [
            "Epoch number : 1 and the loss : 200496.796875\n",
            "Epoch number : 11 and the loss : 200493.6875\n",
            "Epoch number : 21 and the loss : 200489.359375\n",
            "Epoch number : 31 and the loss : 200482.96875\n",
            "Epoch number : 41 and the loss : 200473.640625\n",
            "Epoch number : 51 and the loss : 200462.03125\n",
            "Epoch number : 61 and the loss : 200447.859375\n",
            "Epoch number : 71 and the loss : 200430.15625\n",
            "Epoch number : 81 and the loss : 200407.703125\n",
            "Epoch number : 91 and the loss : 200384.140625\n",
            "Epoch number : 101 and the loss : 200356.453125\n",
            "Epoch number : 111 and the loss : 200322.625\n",
            "Epoch number : 121 and the loss : 200284.390625\n",
            "Epoch number : 131 and the loss : 200249.421875\n",
            "Epoch number : 141 and the loss : 200205.765625\n",
            "Epoch number : 151 and the loss : 200161.734375\n",
            "Epoch number : 161 and the loss : 200113.078125\n",
            "Epoch number : 171 and the loss : 200063.0\n",
            "Epoch number : 181 and the loss : 200005.34375\n",
            "Epoch number : 191 and the loss : 199946.84375\n",
            "Epoch number : 201 and the loss : 199887.5625\n",
            "Epoch number : 211 and the loss : 199812.359375\n",
            "Epoch number : 221 and the loss : 199726.0625\n",
            "Epoch number : 231 and the loss : 199669.125\n",
            "Epoch number : 241 and the loss : 199584.609375\n",
            "Epoch number : 251 and the loss : 199509.421875\n",
            "Epoch number : 261 and the loss : 199414.9375\n",
            "Epoch number : 271 and the loss : 199329.5\n",
            "Epoch number : 281 and the loss : 199252.515625\n",
            "Epoch number : 291 and the loss : 199135.5625\n",
            "Epoch number : 301 and the loss : 199042.671875\n",
            "Epoch number : 311 and the loss : 198910.359375\n",
            "Epoch number : 321 and the loss : 198840.859375\n",
            "Epoch number : 331 and the loss : 198702.09375\n",
            "Epoch number : 341 and the loss : 198616.125\n",
            "Epoch number : 351 and the loss : 198497.59375\n",
            "Epoch number : 361 and the loss : 198409.296875\n",
            "Epoch number : 371 and the loss : 198211.765625\n",
            "Epoch number : 381 and the loss : 198130.765625\n",
            "Epoch number : 391 and the loss : 197981.109375\n",
            "Epoch number : 401 and the loss : 197849.65625\n",
            "Epoch number : 411 and the loss : 197716.1875\n",
            "Epoch number : 421 and the loss : 197585.484375\n",
            "Epoch number : 431 and the loss : 197434.53125\n",
            "Epoch number : 441 and the loss : 197287.40625\n",
            "Epoch number : 451 and the loss : 197162.078125\n",
            "Epoch number : 461 and the loss : 196959.734375\n",
            "Epoch number : 471 and the loss : 196804.625\n",
            "Epoch number : 481 and the loss : 196686.9375\n",
            "Epoch number : 491 and the loss : 196517.609375\n",
            "Epoch number : 501 and the loss : 196298.625\n",
            "Epoch number : 511 and the loss : 196215.1875\n",
            "Epoch number : 521 and the loss : 196017.53125\n",
            "Epoch number : 531 and the loss : 195909.3125\n",
            "Epoch number : 541 and the loss : 195658.21875\n",
            "Epoch number : 551 and the loss : 195440.046875\n",
            "Epoch number : 561 and the loss : 195219.625\n",
            "Epoch number : 571 and the loss : 195108.9375\n",
            "Epoch number : 581 and the loss : 194928.4375\n",
            "Epoch number : 591 and the loss : 194658.25\n",
            "Epoch number : 601 and the loss : 194565.25\n",
            "Epoch number : 611 and the loss : 194387.296875\n",
            "Epoch number : 621 and the loss : 194080.65625\n",
            "Epoch number : 631 and the loss : 193911.921875\n",
            "Epoch number : 641 and the loss : 193713.0\n",
            "Epoch number : 651 and the loss : 193482.5625\n",
            "Epoch number : 661 and the loss : 193306.859375\n",
            "Epoch number : 671 and the loss : 193158.4375\n",
            "Epoch number : 681 and the loss : 192899.796875\n",
            "Epoch number : 691 and the loss : 192708.765625\n",
            "Epoch number : 701 and the loss : 192466.234375\n",
            "Epoch number : 711 and the loss : 192074.203125\n",
            "Epoch number : 721 and the loss : 191956.796875\n",
            "Epoch number : 731 and the loss : 191746.953125\n",
            "Epoch number : 741 and the loss : 191408.0625\n",
            "Epoch number : 751 and the loss : 191382.546875\n",
            "Epoch number : 761 and the loss : 191026.9375\n",
            "Epoch number : 771 and the loss : 190769.125\n",
            "Epoch number : 781 and the loss : 190416.484375\n",
            "Epoch number : 791 and the loss : 190303.171875\n",
            "Epoch number : 801 and the loss : 189985.609375\n",
            "Epoch number : 811 and the loss : 189703.953125\n",
            "Epoch number : 821 and the loss : 189348.109375\n",
            "Epoch number : 831 and the loss : 189218.21875\n",
            "Epoch number : 841 and the loss : 188905.71875\n",
            "Epoch number : 851 and the loss : 188595.1875\n",
            "Epoch number : 861 and the loss : 188425.515625\n",
            "Epoch number : 871 and the loss : 188235.953125\n",
            "Epoch number : 881 and the loss : 187871.171875\n",
            "Epoch number : 891 and the loss : 187739.453125\n",
            "Epoch number : 901 and the loss : 187263.65625\n",
            "Epoch number : 911 and the loss : 187128.65625\n",
            "Epoch number : 921 and the loss : 186914.546875\n",
            "Epoch number : 931 and the loss : 186372.390625\n",
            "Epoch number : 941 and the loss : 186170.90625\n",
            "Epoch number : 951 and the loss : 185726.703125\n",
            "Epoch number : 961 and the loss : 185783.828125\n",
            "Epoch number : 971 and the loss : 185333.609375\n",
            "Epoch number : 981 and the loss : 184886.453125\n",
            "Epoch number : 991 and the loss : 184811.609375\n",
            "Epoch number : 1001 and the loss : 184480.421875\n",
            "Epoch number : 1011 and the loss : 183940.390625\n",
            "Epoch number : 1021 and the loss : 183799.953125\n",
            "Epoch number : 1031 and the loss : 183430.828125\n",
            "Epoch number : 1041 and the loss : 183088.90625\n",
            "Epoch number : 1051 and the loss : 182980.53125\n",
            "Epoch number : 1061 and the loss : 182196.109375\n",
            "Epoch number : 1071 and the loss : 182114.0\n",
            "Epoch number : 1081 and the loss : 181851.625\n",
            "Epoch number : 1091 and the loss : 181674.578125\n",
            "Epoch number : 1101 and the loss : 181227.359375\n",
            "Epoch number : 1111 and the loss : 180985.5625\n",
            "Epoch number : 1121 and the loss : 180438.515625\n",
            "Epoch number : 1131 and the loss : 180152.921875\n",
            "Epoch number : 1141 and the loss : 179979.171875\n",
            "Epoch number : 1151 and the loss : 179783.078125\n",
            "Epoch number : 1161 and the loss : 179082.984375\n",
            "Epoch number : 1171 and the loss : 178956.46875\n",
            "Epoch number : 1181 and the loss : 178500.625\n",
            "Epoch number : 1191 and the loss : 178343.734375\n",
            "Epoch number : 1201 and the loss : 177446.0625\n",
            "Epoch number : 1211 and the loss : 177526.03125\n",
            "Epoch number : 1221 and the loss : 177185.96875\n",
            "Epoch number : 1231 and the loss : 176886.828125\n",
            "Epoch number : 1241 and the loss : 176262.125\n",
            "Epoch number : 1251 and the loss : 175725.078125\n",
            "Epoch number : 1261 and the loss : 175798.84375\n",
            "Epoch number : 1271 and the loss : 175295.5\n",
            "Epoch number : 1281 and the loss : 175154.703125\n",
            "Epoch number : 1291 and the loss : 174207.8125\n",
            "Epoch number : 1301 and the loss : 173976.703125\n",
            "Epoch number : 1311 and the loss : 173844.375\n",
            "Epoch number : 1321 and the loss : 173397.640625\n",
            "Epoch number : 1331 and the loss : 172886.640625\n",
            "Epoch number : 1341 and the loss : 172988.796875\n",
            "Epoch number : 1351 and the loss : 172534.484375\n",
            "Epoch number : 1361 and the loss : 172090.234375\n",
            "Epoch number : 1371 and the loss : 171382.546875\n",
            "Epoch number : 1381 and the loss : 171313.421875\n",
            "Epoch number : 1391 and the loss : 170395.75\n",
            "Epoch number : 1401 and the loss : 170030.234375\n",
            "Epoch number : 1411 and the loss : 169698.59375\n",
            "Epoch number : 1421 and the loss : 169402.46875\n",
            "Epoch number : 1431 and the loss : 169463.890625\n",
            "Epoch number : 1441 and the loss : 168733.234375\n",
            "Epoch number : 1451 and the loss : 168506.046875\n",
            "Epoch number : 1461 and the loss : 167713.65625\n",
            "Epoch number : 1471 and the loss : 167431.890625\n",
            "Epoch number : 1481 and the loss : 166855.734375\n",
            "Epoch number : 1491 and the loss : 166828.375\n",
            "Epoch number : 1501 and the loss : 166385.1875\n",
            "Epoch number : 1511 and the loss : 166099.359375\n",
            "Epoch number : 1521 and the loss : 165841.84375\n",
            "Epoch number : 1531 and the loss : 164749.984375\n",
            "Epoch number : 1541 and the loss : 164744.703125\n",
            "Epoch number : 1551 and the loss : 164799.296875\n",
            "Epoch number : 1561 and the loss : 163766.375\n",
            "Epoch number : 1571 and the loss : 163488.90625\n",
            "Epoch number : 1581 and the loss : 163271.828125\n",
            "Epoch number : 1591 and the loss : 163037.515625\n",
            "Epoch number : 1601 and the loss : 162588.453125\n",
            "Epoch number : 1611 and the loss : 161957.21875\n",
            "Epoch number : 1621 and the loss : 161040.15625\n",
            "Epoch number : 1631 and the loss : 160910.75\n",
            "Epoch number : 1641 and the loss : 160296.765625\n",
            "Epoch number : 1651 and the loss : 160065.421875\n",
            "Epoch number : 1661 and the loss : 159718.53125\n",
            "Epoch number : 1671 and the loss : 158970.609375\n",
            "Epoch number : 1681 and the loss : 158890.296875\n",
            "Epoch number : 1691 and the loss : 158491.90625\n",
            "Epoch number : 1701 and the loss : 157481.859375\n",
            "Epoch number : 1711 and the loss : 157722.765625\n",
            "Epoch number : 1721 and the loss : 157339.25\n",
            "Epoch number : 1731 and the loss : 156497.03125\n",
            "Epoch number : 1741 and the loss : 156059.25\n",
            "Epoch number : 1751 and the loss : 156220.75\n",
            "Epoch number : 1761 and the loss : 155096.0625\n",
            "Epoch number : 1771 and the loss : 154378.59375\n",
            "Epoch number : 1781 and the loss : 154320.25\n",
            "Epoch number : 1791 and the loss : 153262.46875\n",
            "Epoch number : 1801 and the loss : 153189.390625\n",
            "Epoch number : 1811 and the loss : 153075.234375\n",
            "Epoch number : 1821 and the loss : 152713.46875\n",
            "Epoch number : 1831 and the loss : 151717.40625\n",
            "Epoch number : 1841 and the loss : 151464.859375\n",
            "Epoch number : 1851 and the loss : 151385.6875\n",
            "Epoch number : 1861 and the loss : 150696.59375\n",
            "Epoch number : 1871 and the loss : 150048.515625\n",
            "Epoch number : 1881 and the loss : 149279.09375\n",
            "Epoch number : 1891 and the loss : 149854.140625\n",
            "Epoch number : 1901 and the loss : 148925.0625\n",
            "Epoch number : 1911 and the loss : 148148.5\n",
            "Epoch number : 1921 and the loss : 148099.140625\n",
            "Epoch number : 1931 and the loss : 148379.0625\n",
            "Epoch number : 1941 and the loss : 147098.03125\n",
            "Epoch number : 1951 and the loss : 146390.875\n",
            "Epoch number : 1961 and the loss : 146008.0625\n",
            "Epoch number : 1971 and the loss : 146349.3125\n",
            "Epoch number : 1981 and the loss : 145146.546875\n",
            "Epoch number : 1991 and the loss : 144248.6875\n",
            "Epoch number : 2001 and the loss : 143765.34375\n",
            "Epoch number : 2011 and the loss : 143997.078125\n",
            "Epoch number : 2021 and the loss : 143386.140625\n",
            "Epoch number : 2031 and the loss : 142645.390625\n",
            "Epoch number : 2041 and the loss : 141923.625\n",
            "Epoch number : 2051 and the loss : 141881.046875\n",
            "Epoch number : 2061 and the loss : 141428.15625\n",
            "Epoch number : 2071 and the loss : 140499.296875\n",
            "Epoch number : 2081 and the loss : 140645.125\n",
            "Epoch number : 2091 and the loss : 139826.90625\n",
            "Epoch number : 2101 and the loss : 139583.859375\n",
            "Epoch number : 2111 and the loss : 138631.671875\n",
            "Epoch number : 2121 and the loss : 138583.375\n",
            "Epoch number : 2131 and the loss : 138152.75\n",
            "Epoch number : 2141 and the loss : 137275.84375\n",
            "Epoch number : 2151 and the loss : 136618.578125\n",
            "Epoch number : 2161 and the loss : 137021.03125\n",
            "Epoch number : 2171 and the loss : 135474.65625\n",
            "Epoch number : 2181 and the loss : 135237.46875\n",
            "Epoch number : 2191 and the loss : 135001.046875\n",
            "Epoch number : 2201 and the loss : 134486.25\n",
            "Epoch number : 2211 and the loss : 133150.421875\n",
            "Epoch number : 2221 and the loss : 132586.265625\n",
            "Epoch number : 2231 and the loss : 132730.171875\n",
            "Epoch number : 2241 and the loss : 131552.375\n",
            "Epoch number : 2251 and the loss : 132399.65625\n",
            "Epoch number : 2261 and the loss : 131354.703125\n",
            "Epoch number : 2271 and the loss : 130982.609375\n",
            "Epoch number : 2281 and the loss : 130484.09375\n",
            "Epoch number : 2291 and the loss : 130660.96875\n",
            "Epoch number : 2301 and the loss : 128654.9375\n",
            "Epoch number : 2311 and the loss : 129562.609375\n",
            "Epoch number : 2321 and the loss : 127974.546875\n",
            "Epoch number : 2331 and the loss : 127792.2421875\n",
            "Epoch number : 2341 and the loss : 127584.3515625\n",
            "Epoch number : 2351 and the loss : 126685.3125\n",
            "Epoch number : 2361 and the loss : 126232.3046875\n",
            "Epoch number : 2371 and the loss : 125677.8125\n",
            "Epoch number : 2381 and the loss : 125099.4765625\n",
            "Epoch number : 2391 and the loss : 124378.640625\n",
            "Epoch number : 2401 and the loss : 123908.3125\n",
            "Epoch number : 2411 and the loss : 123675.2265625\n",
            "Epoch number : 2421 and the loss : 123491.046875\n",
            "Epoch number : 2431 and the loss : 122842.0390625\n",
            "Epoch number : 2441 and the loss : 122716.1328125\n",
            "Epoch number : 2451 and the loss : 122731.078125\n",
            "Epoch number : 2461 and the loss : 122192.171875\n",
            "Epoch number : 2471 and the loss : 121886.6953125\n",
            "Epoch number : 2481 and the loss : 120364.3125\n",
            "Epoch number : 2491 and the loss : 120484.4296875\n",
            "Epoch number : 2501 and the loss : 119260.734375\n",
            "Epoch number : 2511 and the loss : 118734.5859375\n",
            "Epoch number : 2521 and the loss : 117912.9296875\n",
            "Epoch number : 2531 and the loss : 117779.8359375\n",
            "Epoch number : 2541 and the loss : 117277.703125\n",
            "Epoch number : 2551 and the loss : 117603.8203125\n",
            "Epoch number : 2561 and the loss : 116178.609375\n",
            "Epoch number : 2571 and the loss : 116713.3046875\n",
            "Epoch number : 2581 and the loss : 115542.0546875\n",
            "Epoch number : 2591 and the loss : 114394.765625\n",
            "Epoch number : 2601 and the loss : 114213.6640625\n",
            "Epoch number : 2611 and the loss : 114862.2265625\n",
            "Epoch number : 2621 and the loss : 113649.046875\n",
            "Epoch number : 2631 and the loss : 112639.0\n",
            "Epoch number : 2641 and the loss : 112981.7265625\n",
            "Epoch number : 2651 and the loss : 111283.4453125\n",
            "Epoch number : 2661 and the loss : 111027.0859375\n",
            "Epoch number : 2671 and the loss : 111056.8125\n",
            "Epoch number : 2681 and the loss : 110652.75\n",
            "Epoch number : 2691 and the loss : 109847.7890625\n",
            "Epoch number : 2701 and the loss : 109148.15625\n",
            "Epoch number : 2711 and the loss : 107945.4609375\n",
            "Epoch number : 2721 and the loss : 107742.2421875\n",
            "Epoch number : 2731 and the loss : 107234.03125\n",
            "Epoch number : 2741 and the loss : 108436.109375\n",
            "Epoch number : 2751 and the loss : 106186.046875\n",
            "Epoch number : 2761 and the loss : 106059.328125\n",
            "Epoch number : 2771 and the loss : 106582.6875\n",
            "Epoch number : 2781 and the loss : 106121.5234375\n",
            "Epoch number : 2791 and the loss : 104381.203125\n",
            "Epoch number : 2801 and the loss : 104711.1328125\n",
            "Epoch number : 2811 and the loss : 104334.140625\n",
            "Epoch number : 2821 and the loss : 103185.5703125\n",
            "Epoch number : 2831 and the loss : 103421.65625\n",
            "Epoch number : 2841 and the loss : 102578.1875\n",
            "Epoch number : 2851 and the loss : 102406.2890625\n",
            "Epoch number : 2861 and the loss : 102277.3203125\n",
            "Epoch number : 2871 and the loss : 100887.6640625\n",
            "Epoch number : 2881 and the loss : 101765.875\n",
            "Epoch number : 2891 and the loss : 100269.8984375\n",
            "Epoch number : 2901 and the loss : 99386.796875\n",
            "Epoch number : 2911 and the loss : 98744.59375\n",
            "Epoch number : 2921 and the loss : 98085.1953125\n",
            "Epoch number : 2931 and the loss : 98072.9453125\n",
            "Epoch number : 2941 and the loss : 96930.1953125\n",
            "Epoch number : 2951 and the loss : 96772.1484375\n",
            "Epoch number : 2961 and the loss : 96046.2734375\n",
            "Epoch number : 2971 and the loss : 95610.5703125\n",
            "Epoch number : 2981 and the loss : 96098.90625\n",
            "Epoch number : 2991 and the loss : 94306.2890625\n",
            "Epoch number : 3001 and the loss : 94970.8984375\n",
            "Epoch number : 3011 and the loss : 94238.3515625\n",
            "Epoch number : 3021 and the loss : 93307.15625\n",
            "Epoch number : 3031 and the loss : 93164.9296875\n",
            "Epoch number : 3041 and the loss : 93322.671875\n",
            "Epoch number : 3051 and the loss : 91908.390625\n",
            "Epoch number : 3061 and the loss : 91200.7109375\n",
            "Epoch number : 3071 and the loss : 91726.0859375\n",
            "Epoch number : 3081 and the loss : 89890.265625\n",
            "Epoch number : 3091 and the loss : 89629.1171875\n",
            "Epoch number : 3101 and the loss : 89918.4296875\n",
            "Epoch number : 3111 and the loss : 89461.375\n",
            "Epoch number : 3121 and the loss : 88851.8828125\n",
            "Epoch number : 3131 and the loss : 88833.0\n",
            "Epoch number : 3141 and the loss : 87498.546875\n",
            "Epoch number : 3151 and the loss : 87190.3671875\n",
            "Epoch number : 3161 and the loss : 86628.96875\n",
            "Epoch number : 3171 and the loss : 89016.9609375\n",
            "Epoch number : 3181 and the loss : 84498.03125\n",
            "Epoch number : 3191 and the loss : 84339.171875\n",
            "Epoch number : 3201 and the loss : 84334.203125\n",
            "Epoch number : 3211 and the loss : 83908.2109375\n",
            "Epoch number : 3221 and the loss : 84039.65625\n",
            "Epoch number : 3231 and the loss : 81875.4921875\n",
            "Epoch number : 3241 and the loss : 82782.9765625\n",
            "Epoch number : 3251 and the loss : 82579.2109375\n",
            "Epoch number : 3261 and the loss : 82527.7109375\n",
            "Epoch number : 3271 and the loss : 80762.4375\n",
            "Epoch number : 3281 and the loss : 80757.0859375\n",
            "Epoch number : 3291 and the loss : 79850.71875\n",
            "Epoch number : 3301 and the loss : 81469.046875\n",
            "Epoch number : 3311 and the loss : 78824.2578125\n",
            "Epoch number : 3321 and the loss : 79725.046875\n",
            "Epoch number : 3331 and the loss : 77643.8046875\n",
            "Epoch number : 3341 and the loss : 77599.9609375\n",
            "Epoch number : 3351 and the loss : 77001.8125\n",
            "Epoch number : 3361 and the loss : 77238.2734375\n",
            "Epoch number : 3371 and the loss : 77600.8125\n",
            "Epoch number : 3381 and the loss : 76220.0390625\n",
            "Epoch number : 3391 and the loss : 75077.296875\n",
            "Epoch number : 3401 and the loss : 75757.078125\n",
            "Epoch number : 3411 and the loss : 75188.4921875\n",
            "Epoch number : 3421 and the loss : 74215.3828125\n",
            "Epoch number : 3431 and the loss : 73863.3984375\n",
            "Epoch number : 3441 and the loss : 73415.90625\n",
            "Epoch number : 3451 and the loss : 72236.6015625\n",
            "Epoch number : 3461 and the loss : 73288.09375\n",
            "Epoch number : 3471 and the loss : 71080.8671875\n",
            "Epoch number : 3481 and the loss : 69910.3203125\n",
            "Epoch number : 3491 and the loss : 71398.78125\n",
            "Epoch number : 3501 and the loss : 70386.03125\n",
            "Epoch number : 3511 and the loss : 68857.0703125\n",
            "Epoch number : 3521 and the loss : 69257.3828125\n",
            "Epoch number : 3531 and the loss : 68071.65625\n",
            "Epoch number : 3541 and the loss : 68463.5859375\n",
            "Epoch number : 3551 and the loss : 68339.46875\n",
            "Epoch number : 3561 and the loss : 67284.4375\n",
            "Epoch number : 3571 and the loss : 66606.8828125\n",
            "Epoch number : 3581 and the loss : 66649.625\n",
            "Epoch number : 3591 and the loss : 64618.63671875\n",
            "Epoch number : 3601 and the loss : 66085.1484375\n",
            "Epoch number : 3611 and the loss : 64595.43359375\n",
            "Epoch number : 3621 and the loss : 64337.37109375\n",
            "Epoch number : 3631 and the loss : 63008.421875\n",
            "Epoch number : 3641 and the loss : 62967.23046875\n",
            "Epoch number : 3651 and the loss : 64343.71875\n",
            "Epoch number : 3661 and the loss : 63756.25390625\n",
            "Epoch number : 3671 and the loss : 61816.1328125\n",
            "Epoch number : 3681 and the loss : 64244.48046875\n",
            "Epoch number : 3691 and the loss : 61623.20703125\n",
            "Epoch number : 3701 and the loss : 61025.69140625\n",
            "Epoch number : 3711 and the loss : 60796.82421875\n",
            "Epoch number : 3721 and the loss : 60464.7421875\n",
            "Epoch number : 3731 and the loss : 62485.46875\n",
            "Epoch number : 3741 and the loss : 58895.0\n",
            "Epoch number : 3751 and the loss : 58971.89453125\n",
            "Epoch number : 3761 and the loss : 57558.3125\n",
            "Epoch number : 3771 and the loss : 57579.17578125\n",
            "Epoch number : 3781 and the loss : 58902.87890625\n",
            "Epoch number : 3791 and the loss : 56360.22265625\n",
            "Epoch number : 3801 and the loss : 56179.84765625\n",
            "Epoch number : 3811 and the loss : 56568.6875\n",
            "Epoch number : 3821 and the loss : 56627.58984375\n",
            "Epoch number : 3831 and the loss : 55119.58984375\n",
            "Epoch number : 3841 and the loss : 55545.6484375\n",
            "Epoch number : 3851 and the loss : 53985.01953125\n",
            "Epoch number : 3861 and the loss : 54639.2890625\n",
            "Epoch number : 3871 and the loss : 54564.609375\n",
            "Epoch number : 3881 and the loss : 51603.82421875\n",
            "Epoch number : 3891 and the loss : 53157.5546875\n",
            "Epoch number : 3901 and the loss : 53191.73046875\n",
            "Epoch number : 3911 and the loss : 52493.4921875\n",
            "Epoch number : 3921 and the loss : 50790.77734375\n",
            "Epoch number : 3931 and the loss : 51237.859375\n",
            "Epoch number : 3941 and the loss : 49812.421875\n",
            "Epoch number : 3951 and the loss : 50287.84375\n",
            "Epoch number : 3961 and the loss : 50686.87890625\n",
            "Epoch number : 3971 and the loss : 48176.76953125\n",
            "Epoch number : 3981 and the loss : 49491.79296875\n",
            "Epoch number : 3991 and the loss : 48470.16796875\n",
            "Epoch number : 4001 and the loss : 49820.86328125\n",
            "Epoch number : 4011 and the loss : 47410.7421875\n",
            "Epoch number : 4021 and the loss : 49477.84765625\n",
            "Epoch number : 4031 and the loss : 47522.04296875\n",
            "Epoch number : 4041 and the loss : 46964.3828125\n",
            "Epoch number : 4051 and the loss : 47662.40625\n",
            "Epoch number : 4061 and the loss : 47637.06640625\n",
            "Epoch number : 4071 and the loss : 45965.3046875\n",
            "Epoch number : 4081 and the loss : 44178.75\n",
            "Epoch number : 4091 and the loss : 45096.80078125\n",
            "Epoch number : 4101 and the loss : 45858.91796875\n",
            "Epoch number : 4111 and the loss : 45309.71875\n",
            "Epoch number : 4121 and the loss : 43362.54296875\n",
            "Epoch number : 4131 and the loss : 44855.77734375\n",
            "Epoch number : 4141 and the loss : 44227.859375\n",
            "Epoch number : 4151 and the loss : 46288.9296875\n",
            "Epoch number : 4161 and the loss : 42815.91796875\n",
            "Epoch number : 4171 and the loss : 42685.0859375\n",
            "Epoch number : 4181 and the loss : 42387.26171875\n",
            "Epoch number : 4191 and the loss : 41979.90625\n",
            "Epoch number : 4201 and the loss : 42309.97265625\n",
            "Epoch number : 4211 and the loss : 42464.5390625\n",
            "Epoch number : 4221 and the loss : 41037.08984375\n",
            "Epoch number : 4231 and the loss : 42045.73046875\n",
            "Epoch number : 4241 and the loss : 40591.5625\n",
            "Epoch number : 4251 and the loss : 40231.37890625\n",
            "Epoch number : 4261 and the loss : 40936.171875\n",
            "Epoch number : 4271 and the loss : 44631.34375\n",
            "Epoch number : 4281 and the loss : 42210.33203125\n",
            "Epoch number : 4291 and the loss : 40796.125\n",
            "Epoch number : 4301 and the loss : 39677.1640625\n",
            "Epoch number : 4311 and the loss : 41304.79296875\n",
            "Epoch number : 4321 and the loss : 41678.234375\n",
            "Epoch number : 4331 and the loss : 41060.734375\n",
            "Epoch number : 4341 and the loss : 39669.56640625\n",
            "Epoch number : 4351 and the loss : 37448.390625\n",
            "Epoch number : 4361 and the loss : 39708.49609375\n",
            "Epoch number : 4371 and the loss : 38408.1015625\n",
            "Epoch number : 4381 and the loss : 38827.66015625\n",
            "Epoch number : 4391 and the loss : 38554.796875\n",
            "Epoch number : 4401 and the loss : 39916.0234375\n",
            "Epoch number : 4411 and the loss : 38899.98046875\n",
            "Epoch number : 4421 and the loss : 37106.890625\n",
            "Epoch number : 4431 and the loss : 38874.4765625\n",
            "Epoch number : 4441 and the loss : 37930.6171875\n",
            "Epoch number : 4451 and the loss : 37597.73046875\n",
            "Epoch number : 4461 and the loss : 37048.2421875\n",
            "Epoch number : 4471 and the loss : 39760.09765625\n",
            "Epoch number : 4481 and the loss : 38855.0390625\n",
            "Epoch number : 4491 and the loss : 36972.1953125\n",
            "Epoch number : 4501 and the loss : 39108.26171875\n",
            "Epoch number : 4511 and the loss : 37703.5703125\n",
            "Epoch number : 4521 and the loss : 37723.58203125\n",
            "Epoch number : 4531 and the loss : 36054.9296875\n",
            "Epoch number : 4541 and the loss : 37203.4296875\n",
            "Epoch number : 4551 and the loss : 37010.3359375\n",
            "Epoch number : 4561 and the loss : 37896.390625\n",
            "Epoch number : 4571 and the loss : 36724.81640625\n",
            "Epoch number : 4581 and the loss : 36705.80859375\n",
            "Epoch number : 4591 and the loss : 38233.6015625\n",
            "Epoch number : 4601 and the loss : 37284.9296875\n",
            "Epoch number : 4611 and the loss : 37445.04296875\n",
            "Epoch number : 4621 and the loss : 34551.40234375\n",
            "Epoch number : 4631 and the loss : 37184.84765625\n",
            "Epoch number : 4641 and the loss : 36070.8359375\n",
            "Epoch number : 4651 and the loss : 35116.63671875\n",
            "Epoch number : 4661 and the loss : 35501.859375\n",
            "Epoch number : 4671 and the loss : 37641.8359375\n",
            "Epoch number : 4681 and the loss : 35304.6640625\n",
            "Epoch number : 4691 and the loss : 35359.703125\n",
            "Epoch number : 4701 and the loss : 35371.421875\n",
            "Epoch number : 4711 and the loss : 35114.6484375\n",
            "Epoch number : 4721 and the loss : 37572.19921875\n",
            "Epoch number : 4731 and the loss : 35577.50390625\n",
            "Epoch number : 4741 and the loss : 36755.81640625\n",
            "Epoch number : 4751 and the loss : 37968.125\n",
            "Epoch number : 4761 and the loss : 35934.51171875\n",
            "Epoch number : 4771 and the loss : 34510.4140625\n",
            "Epoch number : 4781 and the loss : 37087.484375\n",
            "Epoch number : 4791 and the loss : 34634.9375\n",
            "Epoch number : 4801 and the loss : 35893.69921875\n",
            "Epoch number : 4811 and the loss : 36851.73046875\n",
            "Epoch number : 4821 and the loss : 35773.40234375\n",
            "Epoch number : 4831 and the loss : 36780.88671875\n",
            "Epoch number : 4841 and the loss : 34395.82421875\n",
            "Epoch number : 4851 and the loss : 35707.53515625\n",
            "Epoch number : 4861 and the loss : 36171.8046875\n",
            "Epoch number : 4871 and the loss : 34597.09765625\n",
            "Epoch number : 4881 and the loss : 36176.8359375\n",
            "Epoch number : 4891 and the loss : 37042.12109375\n",
            "Epoch number : 4901 and the loss : 34725.3125\n",
            "Epoch number : 4911 and the loss : 34852.42578125\n",
            "Epoch number : 4921 and the loss : 35819.17578125\n",
            "Epoch number : 4931 and the loss : 36484.9453125\n",
            "Epoch number : 4941 and the loss : 35837.91015625\n",
            "Epoch number : 4951 and the loss : 36304.984375\n",
            "Epoch number : 4961 and the loss : 35578.30078125\n",
            "Epoch number : 4971 and the loss : 35493.0234375\n",
            "Epoch number : 4981 and the loss : 36128.6796875\n",
            "Epoch number : 4991 and the loss : 35110.87890625\n"
          ],
          "name": "stdout"
        }
      ]
    },
    {
      "cell_type": "code",
      "metadata": {
        "colab": {
          "base_uri": "https://localhost:8080/",
          "height": 279
        },
        "id": "ucA4zd6XGz5b",
        "outputId": "e4d2160e-8d4c-4758-abbb-a0168d98ff59"
      },
      "source": [
        "import matplotlib.pyplot as plt\r\n",
        "plt.plot(range(epochs), final_losses)\r\n",
        "plt.xlabel(\"RMS Loss\")\r\n",
        "plt.ylabel(\"Epoch\")\r\n",
        "plt.show()"
      ],
      "execution_count": 94,
      "outputs": [
        {
          "output_type": "display_data",
          "data": {
            "image/png": "[encoded data removed]",
            "text/plain": [
              "<Figure size 432x288 with 1 Axes>"
            ]
          },
          "metadata": {
            "tags": [],
            "needs_background": "light"
          }
        }
      ]
    },
    {
      "cell_type": "code",
      "metadata": {
        "colab": {
          "base_uri": "https://localhost:8080/"
        },
        "id": "xh07Ev4kGz-b",
        "outputId": "3d86cbac-21d4-403b-a6e6-5d9ee0e260bb"
      },
      "source": [
        "#Validate the test data\r\n",
        "y_pred = \"\"\r\n",
        "with torch.no_grad():\r\n",
        "  y_pred = model(test_categorical, test_cont)\r\n",
        "  loss = torch.sqrt(loss_function(y_pred, y_test))\r\n",
        "print(\"RMSE : {}\".format(loss))"
      ],
      "execution_count": 93,
      "outputs": [
        {
          "output_type": "stream",
          "text": [
            "RMSE : 37602.50390625\n"
          ],
          "name": "stdout"
        }
      ]
    },
    {
      "cell_type": "code",
      "metadata": {
        "id": "T2gdZipNG0Cu"
      },
      "source": [
        "data_verify = pd.DataFrame(y_test.tolist(), columns= ['Test'])"
      ],
      "execution_count": 95,
      "outputs": []
    },
    {
      "cell_type": "code",
      "metadata": {
        "id": "eXbN4qAkIp0o"
      },
      "source": [
        "data_predicted = pd.DataFrame(y_pred.tolist(), columns = [\"Prediction\"])"
      ],
      "execution_count": 96,
      "outputs": []
    },
    {
      "cell_type": "code",
      "metadata": {
        "colab": {
          "base_uri": "https://localhost:8080/",
          "height": 1000
        },
        "id": "C1adC9pGIp_L",
        "outputId": "e6a120da-c847-44e3-9634-9be8584bf439"
      },
      "source": [
        "data_predicted"
      ],
      "execution_count": 97,
      "outputs": [
        {
          "output_type": "execute_result",
          "data": {
            "text/html": [
              "<div>\n",
              "<style scoped>\n",
              "    .dataframe tbody tr th:only-of-type {\n",
              "        vertical-align: middle;\n",
              "    }\n",
              "\n",
              "    .dataframe tbody tr th {\n",
              "        vertical-align: top;\n",
              "    }\n",
              "\n",
              "    .dataframe thead th {\n",
              "        text-align: right;\n",
              "    }\n",
              "</style>\n",
              "<table border=\"1\" class=\"dataframe\">\n",
              "  <thead>\n",
              "    <tr style=\"text-align: right;\">\n",
              "      <th></th>\n",
              "      <th>Prediction</th>\n",
              "    </tr>\n",
              "  </thead>\n",
              "  <tbody>\n",
              "    <tr>\n",
              "      <th>0</th>\n",
              "      <td>141675.656250</td>\n",
              "    </tr>\n",
              "    <tr>\n",
              "      <th>1</th>\n",
              "      <td>157816.359375</td>\n",
              "    </tr>\n",
              "    <tr>\n",
              "      <th>2</th>\n",
              "      <td>159726.578125</td>\n",
              "    </tr>\n",
              "    <tr>\n",
              "      <th>3</th>\n",
              "      <td>246705.687500</td>\n",
              "    </tr>\n",
              "    <tr>\n",
              "      <th>4</th>\n",
              "      <td>149961.187500</td>\n",
              "    </tr>\n",
              "    <tr>\n",
              "      <th>5</th>\n",
              "      <td>190181.375000</td>\n",
              "    </tr>\n",
              "    <tr>\n",
              "      <th>6</th>\n",
              "      <td>230027.390625</td>\n",
              "    </tr>\n",
              "    <tr>\n",
              "      <th>7</th>\n",
              "      <td>242289.640625</td>\n",
              "    </tr>\n",
              "    <tr>\n",
              "      <th>8</th>\n",
              "      <td>148771.046875</td>\n",
              "    </tr>\n",
              "    <tr>\n",
              "      <th>9</th>\n",
              "      <td>474094.687500</td>\n",
              "    </tr>\n",
              "    <tr>\n",
              "      <th>10</th>\n",
              "      <td>211861.578125</td>\n",
              "    </tr>\n",
              "    <tr>\n",
              "      <th>11</th>\n",
              "      <td>218751.531250</td>\n",
              "    </tr>\n",
              "    <tr>\n",
              "      <th>12</th>\n",
              "      <td>188172.578125</td>\n",
              "    </tr>\n",
              "    <tr>\n",
              "      <th>13</th>\n",
              "      <td>128216.359375</td>\n",
              "    </tr>\n",
              "    <tr>\n",
              "      <th>14</th>\n",
              "      <td>218840.953125</td>\n",
              "    </tr>\n",
              "    <tr>\n",
              "      <th>15</th>\n",
              "      <td>97627.632812</td>\n",
              "    </tr>\n",
              "    <tr>\n",
              "      <th>16</th>\n",
              "      <td>221600.546875</td>\n",
              "    </tr>\n",
              "    <tr>\n",
              "      <th>17</th>\n",
              "      <td>125326.468750</td>\n",
              "    </tr>\n",
              "    <tr>\n",
              "      <th>18</th>\n",
              "      <td>316439.500000</td>\n",
              "    </tr>\n",
              "    <tr>\n",
              "      <th>19</th>\n",
              "      <td>75930.429688</td>\n",
              "    </tr>\n",
              "    <tr>\n",
              "      <th>20</th>\n",
              "      <td>158676.734375</td>\n",
              "    </tr>\n",
              "    <tr>\n",
              "      <th>21</th>\n",
              "      <td>132380.718750</td>\n",
              "    </tr>\n",
              "    <tr>\n",
              "      <th>22</th>\n",
              "      <td>124863.867188</td>\n",
              "    </tr>\n",
              "    <tr>\n",
              "      <th>23</th>\n",
              "      <td>192281.546875</td>\n",
              "    </tr>\n",
              "    <tr>\n",
              "      <th>24</th>\n",
              "      <td>135973.296875</td>\n",
              "    </tr>\n",
              "    <tr>\n",
              "      <th>25</th>\n",
              "      <td>180428.265625</td>\n",
              "    </tr>\n",
              "    <tr>\n",
              "      <th>26</th>\n",
              "      <td>99164.117188</td>\n",
              "    </tr>\n",
              "    <tr>\n",
              "      <th>27</th>\n",
              "      <td>349688.218750</td>\n",
              "    </tr>\n",
              "    <tr>\n",
              "      <th>28</th>\n",
              "      <td>156029.671875</td>\n",
              "    </tr>\n",
              "    <tr>\n",
              "      <th>29</th>\n",
              "      <td>196047.031250</td>\n",
              "    </tr>\n",
              "    <tr>\n",
              "      <th>30</th>\n",
              "      <td>102516.093750</td>\n",
              "    </tr>\n",
              "    <tr>\n",
              "      <th>31</th>\n",
              "      <td>121651.570312</td>\n",
              "    </tr>\n",
              "    <tr>\n",
              "      <th>32</th>\n",
              "      <td>232899.984375</td>\n",
              "    </tr>\n",
              "    <tr>\n",
              "      <th>33</th>\n",
              "      <td>88925.546875</td>\n",
              "    </tr>\n",
              "    <tr>\n",
              "      <th>34</th>\n",
              "      <td>228915.437500</td>\n",
              "    </tr>\n",
              "    <tr>\n",
              "      <th>35</th>\n",
              "      <td>183512.859375</td>\n",
              "    </tr>\n",
              "    <tr>\n",
              "      <th>36</th>\n",
              "      <td>134586.109375</td>\n",
              "    </tr>\n",
              "    <tr>\n",
              "      <th>37</th>\n",
              "      <td>126446.476562</td>\n",
              "    </tr>\n",
              "    <tr>\n",
              "      <th>38</th>\n",
              "      <td>179971.640625</td>\n",
              "    </tr>\n",
              "    <tr>\n",
              "      <th>39</th>\n",
              "      <td>105803.601562</td>\n",
              "    </tr>\n",
              "    <tr>\n",
              "      <th>40</th>\n",
              "      <td>214124.234375</td>\n",
              "    </tr>\n",
              "    <tr>\n",
              "      <th>41</th>\n",
              "      <td>270849.312500</td>\n",
              "    </tr>\n",
              "    <tr>\n",
              "      <th>42</th>\n",
              "      <td>90943.820312</td>\n",
              "    </tr>\n",
              "    <tr>\n",
              "      <th>43</th>\n",
              "      <td>151461.906250</td>\n",
              "    </tr>\n",
              "    <tr>\n",
              "      <th>44</th>\n",
              "      <td>194682.171875</td>\n",
              "    </tr>\n",
              "    <tr>\n",
              "      <th>45</th>\n",
              "      <td>118051.117188</td>\n",
              "    </tr>\n",
              "    <tr>\n",
              "      <th>46</th>\n",
              "      <td>94198.765625</td>\n",
              "    </tr>\n",
              "    <tr>\n",
              "      <th>47</th>\n",
              "      <td>112774.281250</td>\n",
              "    </tr>\n",
              "    <tr>\n",
              "      <th>48</th>\n",
              "      <td>134651.656250</td>\n",
              "    </tr>\n",
              "    <tr>\n",
              "      <th>49</th>\n",
              "      <td>280282.406250</td>\n",
              "    </tr>\n",
              "    <tr>\n",
              "      <th>50</th>\n",
              "      <td>111091.796875</td>\n",
              "    </tr>\n",
              "    <tr>\n",
              "      <th>51</th>\n",
              "      <td>311248.562500</td>\n",
              "    </tr>\n",
              "    <tr>\n",
              "      <th>52</th>\n",
              "      <td>271268.312500</td>\n",
              "    </tr>\n",
              "    <tr>\n",
              "      <th>53</th>\n",
              "      <td>121569.656250</td>\n",
              "    </tr>\n",
              "    <tr>\n",
              "      <th>54</th>\n",
              "      <td>265883.156250</td>\n",
              "    </tr>\n",
              "    <tr>\n",
              "      <th>55</th>\n",
              "      <td>250384.843750</td>\n",
              "    </tr>\n",
              "    <tr>\n",
              "      <th>56</th>\n",
              "      <td>129737.187500</td>\n",
              "    </tr>\n",
              "    <tr>\n",
              "      <th>57</th>\n",
              "      <td>136937.531250</td>\n",
              "    </tr>\n",
              "    <tr>\n",
              "      <th>58</th>\n",
              "      <td>181710.718750</td>\n",
              "    </tr>\n",
              "    <tr>\n",
              "      <th>59</th>\n",
              "      <td>185778.093750</td>\n",
              "    </tr>\n",
              "    <tr>\n",
              "      <th>60</th>\n",
              "      <td>338931.968750</td>\n",
              "    </tr>\n",
              "    <tr>\n",
              "      <th>61</th>\n",
              "      <td>83826.007812</td>\n",
              "    </tr>\n",
              "    <tr>\n",
              "      <th>62</th>\n",
              "      <td>220119.609375</td>\n",
              "    </tr>\n",
              "    <tr>\n",
              "      <th>63</th>\n",
              "      <td>265772.656250</td>\n",
              "    </tr>\n",
              "    <tr>\n",
              "      <th>64</th>\n",
              "      <td>151225.359375</td>\n",
              "    </tr>\n",
              "    <tr>\n",
              "      <th>65</th>\n",
              "      <td>143123.734375</td>\n",
              "    </tr>\n",
              "    <tr>\n",
              "      <th>66</th>\n",
              "      <td>117385.914062</td>\n",
              "    </tr>\n",
              "    <tr>\n",
              "      <th>67</th>\n",
              "      <td>203055.984375</td>\n",
              "    </tr>\n",
              "    <tr>\n",
              "      <th>68</th>\n",
              "      <td>102555.843750</td>\n",
              "    </tr>\n",
              "    <tr>\n",
              "      <th>69</th>\n",
              "      <td>239391.093750</td>\n",
              "    </tr>\n",
              "    <tr>\n",
              "      <th>70</th>\n",
              "      <td>50859.496094</td>\n",
              "    </tr>\n",
              "    <tr>\n",
              "      <th>71</th>\n",
              "      <td>52000.277344</td>\n",
              "    </tr>\n",
              "    <tr>\n",
              "      <th>72</th>\n",
              "      <td>90133.156250</td>\n",
              "    </tr>\n",
              "    <tr>\n",
              "      <th>73</th>\n",
              "      <td>266401.312500</td>\n",
              "    </tr>\n",
              "    <tr>\n",
              "      <th>74</th>\n",
              "      <td>178234.218750</td>\n",
              "    </tr>\n",
              "    <tr>\n",
              "      <th>75</th>\n",
              "      <td>242872.468750</td>\n",
              "    </tr>\n",
              "    <tr>\n",
              "      <th>76</th>\n",
              "      <td>118766.273438</td>\n",
              "    </tr>\n",
              "    <tr>\n",
              "      <th>77</th>\n",
              "      <td>84272.273438</td>\n",
              "    </tr>\n",
              "    <tr>\n",
              "      <th>78</th>\n",
              "      <td>127756.195312</td>\n",
              "    </tr>\n",
              "    <tr>\n",
              "      <th>79</th>\n",
              "      <td>90126.531250</td>\n",
              "    </tr>\n",
              "    <tr>\n",
              "      <th>80</th>\n",
              "      <td>143488.953125</td>\n",
              "    </tr>\n",
              "    <tr>\n",
              "      <th>81</th>\n",
              "      <td>115630.375000</td>\n",
              "    </tr>\n",
              "    <tr>\n",
              "      <th>82</th>\n",
              "      <td>80538.437500</td>\n",
              "    </tr>\n",
              "    <tr>\n",
              "      <th>83</th>\n",
              "      <td>228482.421875</td>\n",
              "    </tr>\n",
              "    <tr>\n",
              "      <th>84</th>\n",
              "      <td>108996.812500</td>\n",
              "    </tr>\n",
              "    <tr>\n",
              "      <th>85</th>\n",
              "      <td>124750.531250</td>\n",
              "    </tr>\n",
              "    <tr>\n",
              "      <th>86</th>\n",
              "      <td>213106.734375</td>\n",
              "    </tr>\n",
              "    <tr>\n",
              "      <th>87</th>\n",
              "      <td>127476.898438</td>\n",
              "    </tr>\n",
              "    <tr>\n",
              "      <th>88</th>\n",
              "      <td>192808.281250</td>\n",
              "    </tr>\n",
              "    <tr>\n",
              "      <th>89</th>\n",
              "      <td>66512.578125</td>\n",
              "    </tr>\n",
              "    <tr>\n",
              "      <th>90</th>\n",
              "      <td>317571.656250</td>\n",
              "    </tr>\n",
              "    <tr>\n",
              "      <th>91</th>\n",
              "      <td>140544.828125</td>\n",
              "    </tr>\n",
              "    <tr>\n",
              "      <th>92</th>\n",
              "      <td>146371.671875</td>\n",
              "    </tr>\n",
              "    <tr>\n",
              "      <th>93</th>\n",
              "      <td>208162.234375</td>\n",
              "    </tr>\n",
              "    <tr>\n",
              "      <th>94</th>\n",
              "      <td>87502.843750</td>\n",
              "    </tr>\n",
              "    <tr>\n",
              "      <th>95</th>\n",
              "      <td>384624.156250</td>\n",
              "    </tr>\n",
              "    <tr>\n",
              "      <th>96</th>\n",
              "      <td>210464.515625</td>\n",
              "    </tr>\n",
              "    <tr>\n",
              "      <th>97</th>\n",
              "      <td>446216.312500</td>\n",
              "    </tr>\n",
              "    <tr>\n",
              "      <th>98</th>\n",
              "      <td>192537.984375</td>\n",
              "    </tr>\n",
              "    <tr>\n",
              "      <th>99</th>\n",
              "      <td>229155.031250</td>\n",
              "    </tr>\n",
              "    <tr>\n",
              "      <th>100</th>\n",
              "      <td>168599.312500</td>\n",
              "    </tr>\n",
              "    <tr>\n",
              "      <th>101</th>\n",
              "      <td>155582.078125</td>\n",
              "    </tr>\n",
              "    <tr>\n",
              "      <th>102</th>\n",
              "      <td>191196.671875</td>\n",
              "    </tr>\n",
              "    <tr>\n",
              "      <th>103</th>\n",
              "      <td>140632.640625</td>\n",
              "    </tr>\n",
              "    <tr>\n",
              "      <th>104</th>\n",
              "      <td>322177.937500</td>\n",
              "    </tr>\n",
              "    <tr>\n",
              "      <th>105</th>\n",
              "      <td>126209.726562</td>\n",
              "    </tr>\n",
              "    <tr>\n",
              "      <th>106</th>\n",
              "      <td>184822.296875</td>\n",
              "    </tr>\n",
              "    <tr>\n",
              "      <th>107</th>\n",
              "      <td>281312.312500</td>\n",
              "    </tr>\n",
              "    <tr>\n",
              "      <th>108</th>\n",
              "      <td>287951.250000</td>\n",
              "    </tr>\n",
              "    <tr>\n",
              "      <th>109</th>\n",
              "      <td>271436.250000</td>\n",
              "    </tr>\n",
              "    <tr>\n",
              "      <th>110</th>\n",
              "      <td>95803.945312</td>\n",
              "    </tr>\n",
              "    <tr>\n",
              "      <th>111</th>\n",
              "      <td>171529.812500</td>\n",
              "    </tr>\n",
              "    <tr>\n",
              "      <th>112</th>\n",
              "      <td>62825.351562</td>\n",
              "    </tr>\n",
              "    <tr>\n",
              "      <th>113</th>\n",
              "      <td>203261.265625</td>\n",
              "    </tr>\n",
              "    <tr>\n",
              "      <th>114</th>\n",
              "      <td>79590.914062</td>\n",
              "    </tr>\n",
              "    <tr>\n",
              "      <th>115</th>\n",
              "      <td>147972.375000</td>\n",
              "    </tr>\n",
              "    <tr>\n",
              "      <th>116</th>\n",
              "      <td>120634.179688</td>\n",
              "    </tr>\n",
              "    <tr>\n",
              "      <th>117</th>\n",
              "      <td>89439.875000</td>\n",
              "    </tr>\n",
              "    <tr>\n",
              "      <th>118</th>\n",
              "      <td>339880.437500</td>\n",
              "    </tr>\n",
              "    <tr>\n",
              "      <th>119</th>\n",
              "      <td>132261.703125</td>\n",
              "    </tr>\n",
              "    <tr>\n",
              "      <th>120</th>\n",
              "      <td>302687.312500</td>\n",
              "    </tr>\n",
              "    <tr>\n",
              "      <th>121</th>\n",
              "      <td>89092.820312</td>\n",
              "    </tr>\n",
              "    <tr>\n",
              "      <th>122</th>\n",
              "      <td>218676.953125</td>\n",
              "    </tr>\n",
              "    <tr>\n",
              "      <th>123</th>\n",
              "      <td>151463.703125</td>\n",
              "    </tr>\n",
              "    <tr>\n",
              "      <th>124</th>\n",
              "      <td>109974.445312</td>\n",
              "    </tr>\n",
              "    <tr>\n",
              "      <th>125</th>\n",
              "      <td>118461.468750</td>\n",
              "    </tr>\n",
              "    <tr>\n",
              "      <th>126</th>\n",
              "      <td>159818.234375</td>\n",
              "    </tr>\n",
              "    <tr>\n",
              "      <th>127</th>\n",
              "      <td>364779.093750</td>\n",
              "    </tr>\n",
              "    <tr>\n",
              "      <th>128</th>\n",
              "      <td>123428.375000</td>\n",
              "    </tr>\n",
              "    <tr>\n",
              "      <th>129</th>\n",
              "      <td>126953.796875</td>\n",
              "    </tr>\n",
              "    <tr>\n",
              "      <th>130</th>\n",
              "      <td>143903.484375</td>\n",
              "    </tr>\n",
              "    <tr>\n",
              "      <th>131</th>\n",
              "      <td>68569.765625</td>\n",
              "    </tr>\n",
              "    <tr>\n",
              "      <th>132</th>\n",
              "      <td>177579.718750</td>\n",
              "    </tr>\n",
              "    <tr>\n",
              "      <th>133</th>\n",
              "      <td>162242.796875</td>\n",
              "    </tr>\n",
              "    <tr>\n",
              "      <th>134</th>\n",
              "      <td>256660.562500</td>\n",
              "    </tr>\n",
              "    <tr>\n",
              "      <th>135</th>\n",
              "      <td>88016.015625</td>\n",
              "    </tr>\n",
              "    <tr>\n",
              "      <th>136</th>\n",
              "      <td>245441.984375</td>\n",
              "    </tr>\n",
              "    <tr>\n",
              "      <th>137</th>\n",
              "      <td>127932.000000</td>\n",
              "    </tr>\n",
              "    <tr>\n",
              "      <th>138</th>\n",
              "      <td>144309.765625</td>\n",
              "    </tr>\n",
              "    <tr>\n",
              "      <th>139</th>\n",
              "      <td>272457.312500</td>\n",
              "    </tr>\n",
              "    <tr>\n",
              "      <th>140</th>\n",
              "      <td>223353.328125</td>\n",
              "    </tr>\n",
              "    <tr>\n",
              "      <th>141</th>\n",
              "      <td>148338.640625</td>\n",
              "    </tr>\n",
              "    <tr>\n",
              "      <th>142</th>\n",
              "      <td>90434.765625</td>\n",
              "    </tr>\n",
              "    <tr>\n",
              "      <th>143</th>\n",
              "      <td>212820.312500</td>\n",
              "    </tr>\n",
              "    <tr>\n",
              "      <th>144</th>\n",
              "      <td>163516.062500</td>\n",
              "    </tr>\n",
              "    <tr>\n",
              "      <th>145</th>\n",
              "      <td>235934.328125</td>\n",
              "    </tr>\n",
              "    <tr>\n",
              "      <th>146</th>\n",
              "      <td>133752.906250</td>\n",
              "    </tr>\n",
              "    <tr>\n",
              "      <th>147</th>\n",
              "      <td>147656.406250</td>\n",
              "    </tr>\n",
              "    <tr>\n",
              "      <th>148</th>\n",
              "      <td>147524.140625</td>\n",
              "    </tr>\n",
              "    <tr>\n",
              "      <th>149</th>\n",
              "      <td>149127.437500</td>\n",
              "    </tr>\n",
              "    <tr>\n",
              "      <th>150</th>\n",
              "      <td>130697.343750</td>\n",
              "    </tr>\n",
              "    <tr>\n",
              "      <th>151</th>\n",
              "      <td>156048.515625</td>\n",
              "    </tr>\n",
              "    <tr>\n",
              "      <th>152</th>\n",
              "      <td>247242.968750</td>\n",
              "    </tr>\n",
              "    <tr>\n",
              "      <th>153</th>\n",
              "      <td>115906.734375</td>\n",
              "    </tr>\n",
              "    <tr>\n",
              "      <th>154</th>\n",
              "      <td>72304.414062</td>\n",
              "    </tr>\n",
              "    <tr>\n",
              "      <th>155</th>\n",
              "      <td>227069.765625</td>\n",
              "    </tr>\n",
              "    <tr>\n",
              "      <th>156</th>\n",
              "      <td>96328.437500</td>\n",
              "    </tr>\n",
              "    <tr>\n",
              "      <th>157</th>\n",
              "      <td>239031.484375</td>\n",
              "    </tr>\n",
              "    <tr>\n",
              "      <th>158</th>\n",
              "      <td>166422.859375</td>\n",
              "    </tr>\n",
              "    <tr>\n",
              "      <th>159</th>\n",
              "      <td>145946.609375</td>\n",
              "    </tr>\n",
              "    <tr>\n",
              "      <th>160</th>\n",
              "      <td>119982.101562</td>\n",
              "    </tr>\n",
              "    <tr>\n",
              "      <th>161</th>\n",
              "      <td>395578.500000</td>\n",
              "    </tr>\n",
              "    <tr>\n",
              "      <th>162</th>\n",
              "      <td>117886.812500</td>\n",
              "    </tr>\n",
              "    <tr>\n",
              "      <th>163</th>\n",
              "      <td>197515.765625</td>\n",
              "    </tr>\n",
              "    <tr>\n",
              "      <th>164</th>\n",
              "      <td>248089.906250</td>\n",
              "    </tr>\n",
              "    <tr>\n",
              "      <th>165</th>\n",
              "      <td>273513.718750</td>\n",
              "    </tr>\n",
              "    <tr>\n",
              "      <th>166</th>\n",
              "      <td>210077.468750</td>\n",
              "    </tr>\n",
              "    <tr>\n",
              "      <th>167</th>\n",
              "      <td>118789.515625</td>\n",
              "    </tr>\n",
              "    <tr>\n",
              "      <th>168</th>\n",
              "      <td>256246.937500</td>\n",
              "    </tr>\n",
              "    <tr>\n",
              "      <th>169</th>\n",
              "      <td>119820.468750</td>\n",
              "    </tr>\n",
              "    <tr>\n",
              "      <th>170</th>\n",
              "      <td>80949.546875</td>\n",
              "    </tr>\n",
              "    <tr>\n",
              "      <th>171</th>\n",
              "      <td>100008.304688</td>\n",
              "    </tr>\n",
              "    <tr>\n",
              "      <th>172</th>\n",
              "      <td>253319.703125</td>\n",
              "    </tr>\n",
              "    <tr>\n",
              "      <th>173</th>\n",
              "      <td>149930.578125</td>\n",
              "    </tr>\n",
              "    <tr>\n",
              "      <th>174</th>\n",
              "      <td>184277.578125</td>\n",
              "    </tr>\n",
              "    <tr>\n",
              "      <th>175</th>\n",
              "      <td>178330.718750</td>\n",
              "    </tr>\n",
              "    <tr>\n",
              "      <th>176</th>\n",
              "      <td>202836.359375</td>\n",
              "    </tr>\n",
              "    <tr>\n",
              "      <th>177</th>\n",
              "      <td>248119.781250</td>\n",
              "    </tr>\n",
              "    <tr>\n",
              "      <th>178</th>\n",
              "      <td>272691.062500</td>\n",
              "    </tr>\n",
              "    <tr>\n",
              "      <th>179</th>\n",
              "      <td>128532.828125</td>\n",
              "    </tr>\n",
              "  </tbody>\n",
              "</table>\n",
              "</div>"
            ],
            "text/plain": [
              "        Prediction\n",
              "0    141675.656250\n",
              "1    157816.359375\n",
              "2    159726.578125\n",
              "3    246705.687500\n",
              "4    149961.187500\n",
              "5    190181.375000\n",
              "6    230027.390625\n",
              "7    242289.640625\n",
              "8    148771.046875\n",
              "9    474094.687500\n",
              "10   211861.578125\n",
              "11   218751.531250\n",
              "12   188172.578125\n",
              "13   128216.359375\n",
              "14   218840.953125\n",
              "15    97627.632812\n",
              "16   221600.546875\n",
              "17   125326.468750\n",
              "18   316439.500000\n",
              "19    75930.429688\n",
              "20   158676.734375\n",
              "21   132380.718750\n",
              "22   124863.867188\n",
              "23   192281.546875\n",
              "24   135973.296875\n",
              "25   180428.265625\n",
              "26    99164.117188\n",
              "27   349688.218750\n",
              "28   156029.671875\n",
              "29   196047.031250\n",
              "30   102516.093750\n",
              "31   121651.570312\n",
              "32   232899.984375\n",
              "33    88925.546875\n",
              "34   228915.437500\n",
              "35   183512.859375\n",
              "36   134586.109375\n",
              "37   126446.476562\n",
              "38   179971.640625\n",
              "39   105803.601562\n",
              "40   214124.234375\n",
              "41   270849.312500\n",
              "42    90943.820312\n",
              "43   151461.906250\n",
              "44   194682.171875\n",
              "45   118051.117188\n",
              "46    94198.765625\n",
              "47   112774.281250\n",
              "48   134651.656250\n",
              "49   280282.406250\n",
              "50   111091.796875\n",
              "51   311248.562500\n",
              "52   271268.312500\n",
              "53   121569.656250\n",
              "54   265883.156250\n",
              "55   250384.843750\n",
              "56   129737.187500\n",
              "57   136937.531250\n",
              "58   181710.718750\n",
              "59   185778.093750\n",
              "60   338931.968750\n",
              "61    83826.007812\n",
              "62   220119.609375\n",
              "63   265772.656250\n",
              "64   151225.359375\n",
              "65   143123.734375\n",
              "66   117385.914062\n",
              "67   203055.984375\n",
              "68   102555.843750\n",
              "69   239391.093750\n",
              "70    50859.496094\n",
              "71    52000.277344\n",
              "72    90133.156250\n",
              "73   266401.312500\n",
              "74   178234.218750\n",
              "75   242872.468750\n",
              "76   118766.273438\n",
              "77    84272.273438\n",
              "78   127756.195312\n",
              "79    90126.531250\n",
              "80   143488.953125\n",
              "81   115630.375000\n",
              "82    80538.437500\n",
              "83   228482.421875\n",
              "84   108996.812500\n",
              "85   124750.531250\n",
              "86   213106.734375\n",
              "87   127476.898438\n",
              "88   192808.281250\n",
              "89    66512.578125\n",
              "90   317571.656250\n",
              "91   140544.828125\n",
              "92   146371.671875\n",
              "93   208162.234375\n",
              "94    87502.843750\n",
              "95   384624.156250\n",
              "96   210464.515625\n",
              "97   446216.312500\n",
              "98   192537.984375\n",
              "99   229155.031250\n",
              "100  168599.312500\n",
              "101  155582.078125\n",
              "102  191196.671875\n",
              "103  140632.640625\n",
              "104  322177.937500\n",
              "105  126209.726562\n",
              "106  184822.296875\n",
              "107  281312.312500\n",
              "108  287951.250000\n",
              "109  271436.250000\n",
              "110   95803.945312\n",
              "111  171529.812500\n",
              "112   62825.351562\n",
              "113  203261.265625\n",
              "114   79590.914062\n",
              "115  147972.375000\n",
              "116  120634.179688\n",
              "117   89439.875000\n",
              "118  339880.437500\n",
              "119  132261.703125\n",
              "120  302687.312500\n",
              "121   89092.820312\n",
              "122  218676.953125\n",
              "123  151463.703125\n",
              "124  109974.445312\n",
              "125  118461.468750\n",
              "126  159818.234375\n",
              "127  364779.093750\n",
              "128  123428.375000\n",
              "129  126953.796875\n",
              "130  143903.484375\n",
              "131   68569.765625\n",
              "132  177579.718750\n",
              "133  162242.796875\n",
              "134  256660.562500\n",
              "135   88016.015625\n",
              "136  245441.984375\n",
              "137  127932.000000\n",
              "138  144309.765625\n",
              "139  272457.312500\n",
              "140  223353.328125\n",
              "141  148338.640625\n",
              "142   90434.765625\n",
              "143  212820.312500\n",
              "144  163516.062500\n",
              "145  235934.328125\n",
              "146  133752.906250\n",
              "147  147656.406250\n",
              "148  147524.140625\n",
              "149  149127.437500\n",
              "150  130697.343750\n",
              "151  156048.515625\n",
              "152  247242.968750\n",
              "153  115906.734375\n",
              "154   72304.414062\n",
              "155  227069.765625\n",
              "156   96328.437500\n",
              "157  239031.484375\n",
              "158  166422.859375\n",
              "159  145946.609375\n",
              "160  119982.101562\n",
              "161  395578.500000\n",
              "162  117886.812500\n",
              "163  197515.765625\n",
              "164  248089.906250\n",
              "165  273513.718750\n",
              "166  210077.468750\n",
              "167  118789.515625\n",
              "168  256246.937500\n",
              "169  119820.468750\n",
              "170   80949.546875\n",
              "171  100008.304688\n",
              "172  253319.703125\n",
              "173  149930.578125\n",
              "174  184277.578125\n",
              "175  178330.718750\n",
              "176  202836.359375\n",
              "177  248119.781250\n",
              "178  272691.062500\n",
              "179  128532.828125"
            ]
          },
          "metadata": {
            "tags": []
          },
          "execution_count": 97
        }
      ]
    },
    {
      "cell_type": "code",
      "metadata": {
        "id": "54-caPq_IqGM"
      },
      "source": [
        "final_output = pd.concat([data_verify, data_predicted], axis = 1)\r\n",
        "final_output['Difference'] = final_output['Test'] - final_output['Prediction']"
      ],
      "execution_count": 99,
      "outputs": []
    },
    {
      "cell_type": "code",
      "metadata": {
        "colab": {
          "base_uri": "https://localhost:8080/",
          "height": 204
        },
        "id": "X7JGrwewG0Gd",
        "outputId": "d97446e8-753f-4773-8ac4-47e55cb0a847"
      },
      "source": [
        "final_output.head()"
      ],
      "execution_count": 101,
      "outputs": [
        {
          "output_type": "execute_result",
          "data": {
            "text/html": [
              "<div>\n",
              "<style scoped>\n",
              "    .dataframe tbody tr th:only-of-type {\n",
              "        vertical-align: middle;\n",
              "    }\n",
              "\n",
              "    .dataframe tbody tr th {\n",
              "        vertical-align: top;\n",
              "    }\n",
              "\n",
              "    .dataframe thead th {\n",
              "        text-align: right;\n",
              "    }\n",
              "</style>\n",
              "<table border=\"1\" class=\"dataframe\">\n",
              "  <thead>\n",
              "    <tr style=\"text-align: right;\">\n",
              "      <th></th>\n",
              "      <th>Test</th>\n",
              "      <th>Prediction</th>\n",
              "      <th>Difference</th>\n",
              "    </tr>\n",
              "  </thead>\n",
              "  <tbody>\n",
              "    <tr>\n",
              "      <th>0</th>\n",
              "      <td>130000.0</td>\n",
              "      <td>141675.656250</td>\n",
              "      <td>-11675.656250</td>\n",
              "    </tr>\n",
              "    <tr>\n",
              "      <th>1</th>\n",
              "      <td>138887.0</td>\n",
              "      <td>157816.359375</td>\n",
              "      <td>-18929.359375</td>\n",
              "    </tr>\n",
              "    <tr>\n",
              "      <th>2</th>\n",
              "      <td>175500.0</td>\n",
              "      <td>159726.578125</td>\n",
              "      <td>15773.421875</td>\n",
              "    </tr>\n",
              "    <tr>\n",
              "      <th>3</th>\n",
              "      <td>195000.0</td>\n",
              "      <td>246705.687500</td>\n",
              "      <td>-51705.687500</td>\n",
              "    </tr>\n",
              "    <tr>\n",
              "      <th>4</th>\n",
              "      <td>142500.0</td>\n",
              "      <td>149961.187500</td>\n",
              "      <td>-7461.187500</td>\n",
              "    </tr>\n",
              "  </tbody>\n",
              "</table>\n",
              "</div>"
            ],
            "text/plain": [
              "       Test     Prediction    Difference\n",
              "0  130000.0  141675.656250 -11675.656250\n",
              "1  138887.0  157816.359375 -18929.359375\n",
              "2  175500.0  159726.578125  15773.421875\n",
              "3  195000.0  246705.687500 -51705.687500\n",
              "4  142500.0  149961.187500  -7461.187500"
            ]
          },
          "metadata": {
            "tags": []
          },
          "execution_count": 101
        }
      ]
    },
    {
      "cell_type": "code",
      "metadata": {
        "id": "D96ItCGZFKew"
      },
      "source": [
        "##Saving the model\r\n",
        "torch.save(model, \"/content/drive/MyDrive/PyTorch/HousePrice.pt\")"
      ],
      "execution_count": 102,
      "outputs": []
    },
    {
      "cell_type": "code",
      "metadata": {
        "id": "EDGamkFOxpf1"
      },
      "source": [
        "torch.save(model.state_dict(), \"/content/drive/MyDrive/PyTorch/HouseWeights.pt\")"
      ],
      "execution_count": 103,
      "outputs": []
    },
    {
      "cell_type": "code",
      "metadata": {
        "id": "wnppAfeFxpl_"
      },
      "source": [
        "#Loading save the model\r\n",
        "embeds_size = [(15, 8), (5, 3), (2, 1), (4,2)]\r\n",
        "model_1 = feedforwardNN(embeds_size, 5, 1, [100, 50], p = 0.4)"
      ],
      "execution_count": 104,
      "outputs": []
    },
    {
      "cell_type": "code",
      "metadata": {
        "colab": {
          "base_uri": "https://localhost:8080/"
        },
        "id": "rRq81UKRKNul",
        "outputId": "21e8cdd0-da19-4161-cce7-a5a60cb89bca"
      },
      "source": [
        "model_1.load_state_dict(torch.load(\"/content/drive/MyDrive/PyTorch/HouseWeights.pt\"))"
      ],
      "execution_count": 105,
      "outputs": [
        {
          "output_type": "execute_result",
          "data": {
            "text/plain": [
              "<All keys matched successfully>"
            ]
          },
          "metadata": {
            "tags": []
          },
          "execution_count": 105
        }
      ]
    },
    {
      "cell_type": "code",
      "metadata": {
        "colab": {
          "base_uri": "https://localhost:8080/"
        },
        "id": "ytKtCBDNKN1c",
        "outputId": "d6803fa9-d91d-4200-fc10-f9486f39e817"
      },
      "source": [
        "model_1.eval()"
      ],
      "execution_count": 106,
      "outputs": [
        {
          "output_type": "execute_result",
          "data": {
            "text/plain": [
              "feedforwardNN(\n",
              "  (embeds): ModuleList(\n",
              "    (0): Embedding(15, 8)\n",
              "    (1): Embedding(5, 3)\n",
              "    (2): Embedding(2, 1)\n",
              "    (3): Embedding(4, 2)\n",
              "  )\n",
              "  (emb_drop): Dropout(p=0.4, inplace=False)\n",
              "  (bn_cont): BatchNorm1d(5, eps=1e-05, momentum=0.1, affine=True, track_running_stats=True)\n",
              "  (layers): Sequential(\n",
              "    (0): Linear(in_features=19, out_features=100, bias=True)\n",
              "    (1): ReLU(inplace=True)\n",
              "    (2): BatchNorm1d(100, eps=1e-05, momentum=0.1, affine=True, track_running_stats=True)\n",
              "    (3): Dropout(p=0.4, inplace=False)\n",
              "    (4): Linear(in_features=100, out_features=50, bias=True)\n",
              "    (5): ReLU(inplace=True)\n",
              "    (6): BatchNorm1d(50, eps=1e-05, momentum=0.1, affine=True, track_running_stats=True)\n",
              "    (7): Dropout(p=0.4, inplace=False)\n",
              "    (8): Linear(in_features=50, out_features=1, bias=True)\n",
              "  )\n",
              ")"
            ]
          },
          "metadata": {
            "tags": []
          },
          "execution_count": 106
        }
      ]
    },
    {
      "cell_type": "code",
      "metadata": {
        "id": "CiBqGsuyKN6M"
      },
      "source": [
        ""
      ],
      "execution_count": null,
      "outputs": []
    },
    {
      "cell_type": "code",
      "metadata": {
        "id": "CnUWRyqBKN-J"
      },
      "source": [
        ""
      ],
      "execution_count": null,
      "outputs": []
    },
    {
      "cell_type": "code",
      "metadata": {
        "id": "Oq7LVtjFKONs"
      },
      "source": [
        ""
      ],
      "execution_count": null,
      "outputs": []
    }
  ]
}