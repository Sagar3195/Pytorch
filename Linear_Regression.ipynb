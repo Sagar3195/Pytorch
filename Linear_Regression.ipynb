{
 "cells": [
  {
   "cell_type": "code",
   "execution_count": 1,
   "id": "excessive-citizenship",
   "metadata": {},
   "outputs": [],
   "source": [
    "import torch\n",
    "import torch.nn as nn\n",
    "import numpy as np\n",
    "from sklearn import datasets\n",
    "import matplotlib.pyplot as plt"
   ]
  },
  {
   "cell_type": "code",
   "execution_count": 2,
   "id": "selective-policy",
   "metadata": {},
   "outputs": [],
   "source": [
    "#Create Data\n",
    "X_numpy , y_numpy = datasets.make_regression(n_samples = 100, n_features = 1, noise = 20, random_state = 4)"
   ]
  },
  {
   "cell_type": "code",
   "execution_count": 4,
   "id": "smoking-petite",
   "metadata": {},
   "outputs": [
    {
     "name": "stdout",
     "output_type": "stream",
     "text": [
      "(100, 1)\n",
      "(100,)\n"
     ]
    }
   ],
   "source": [
    "print(X_numpy.shape)\n",
    "print(y_numpy.shape)"
   ]
  },
  {
   "cell_type": "code",
   "execution_count": 5,
   "id": "honest-twenty",
   "metadata": {},
   "outputs": [
    {
     "data": {
      "text/plain": [
       "numpy.ndarray"
      ]
     },
     "execution_count": 5,
     "metadata": {},
     "output_type": "execute_result"
    }
   ],
   "source": [
    "type(X_numpy)"
   ]
  },
  {
   "cell_type": "code",
   "execution_count": 8,
   "id": "plastic-purse",
   "metadata": {},
   "outputs": [],
   "source": [
    "#cast to float tensor\n",
    "X = torch.from_numpy(X_numpy.astype(np.float32))\n",
    "y = torch.from_numpy(y_numpy.astype(np.float32))"
   ]
  },
  {
   "cell_type": "code",
   "execution_count": 9,
   "id": "durable-closing",
   "metadata": {},
   "outputs": [
    {
     "data": {
      "text/plain": [
       "torch.Tensor"
      ]
     },
     "execution_count": 9,
     "metadata": {},
     "output_type": "execute_result"
    }
   ],
   "source": [
    "type(X)"
   ]
  },
  {
   "cell_type": "code",
   "execution_count": 11,
   "id": "essential-competition",
   "metadata": {},
   "outputs": [
    {
     "name": "stdout",
     "output_type": "stream",
     "text": [
      "torch.Size([100, 1])\n",
      "torch.Size([100])\n"
     ]
    }
   ],
   "source": [
    "print(X.shape)\n",
    "print(y.shape)"
   ]
  },
  {
   "cell_type": "code",
   "execution_count": 12,
   "id": "delayed-component",
   "metadata": {},
   "outputs": [],
   "source": [
    "y= y.view(y.shape[0], 1)"
   ]
  },
  {
   "cell_type": "code",
   "execution_count": 13,
   "id": "committed-halloween",
   "metadata": {},
   "outputs": [
    {
     "data": {
      "text/plain": [
       "tensor([[-126.2492],\n",
       "        [  50.9288],\n",
       "        [  63.1546],\n",
       "        [   6.0547],\n",
       "        [  -5.7295],\n",
       "        [  -2.7519],\n",
       "        [  58.7036],\n",
       "        [  53.8136],\n",
       "        [ -95.3411],\n",
       "        [  24.6481],\n",
       "        [ -59.4170],\n",
       "        [ -73.4235],\n",
       "        [-104.1627],\n",
       "        [  31.8077],\n",
       "        [ 171.1535],\n",
       "        [ -67.7520],\n",
       "        [ 141.4677],\n",
       "        [ -24.3676],\n",
       "        [  -2.1124],\n",
       "        [ -32.5958],\n",
       "        [ -29.4151],\n",
       "        [ -37.8715],\n",
       "        [-101.8983],\n",
       "        [  46.4129],\n",
       "        [-181.3484],\n",
       "        [ -31.7740],\n",
       "        [  24.1315],\n",
       "        [ 163.9438],\n",
       "        [  10.7737],\n",
       "        [  37.3589],\n",
       "        [   0.9804],\n",
       "        [-120.8857],\n",
       "        [ 138.1994],\n",
       "        [   9.2027],\n",
       "        [ -16.2069],\n",
       "        [  33.2171],\n",
       "        [ -45.6170],\n",
       "        [  -1.7776],\n",
       "        [-105.5628],\n",
       "        [   5.2639],\n",
       "        [  89.5979],\n",
       "        [ 146.1030],\n",
       "        [ -77.7870],\n",
       "        [  -3.8089],\n",
       "        [  60.8120],\n",
       "        [ -97.2027],\n",
       "        [  -1.1599],\n",
       "        [ -43.8825],\n",
       "        [  15.7428],\n",
       "        [ -24.2745],\n",
       "        [ -90.6015],\n",
       "        [ -19.0731],\n",
       "        [-101.7900],\n",
       "        [ -56.5514],\n",
       "        [  52.1697],\n",
       "        [-158.2847],\n",
       "        [  64.5397],\n",
       "        [  84.5210],\n",
       "        [  66.4343],\n",
       "        [  36.8660],\n",
       "        [  37.4378],\n",
       "        [ -82.9171],\n",
       "        [ -21.4183],\n",
       "        [  -5.5435],\n",
       "        [  59.8845],\n",
       "        [   8.3785],\n",
       "        [ -17.1763],\n",
       "        [-160.5090],\n",
       "        [-100.7372],\n",
       "        [  80.3034],\n",
       "        [  69.6496],\n",
       "        [  28.1444],\n",
       "        [   9.7630],\n",
       "        [  41.1250],\n",
       "        [ 176.9283],\n",
       "        [   9.5598],\n",
       "        [  -4.4046],\n",
       "        [ -24.0359],\n",
       "        [  19.1701],\n",
       "        [ 102.4833],\n",
       "        [ 101.5209],\n",
       "        [ -58.5132],\n",
       "        [  17.6877],\n",
       "        [  63.0537],\n",
       "        [-102.3673],\n",
       "        [  -1.6586],\n",
       "        [  64.6626],\n",
       "        [ -44.1299],\n",
       "        [ 117.9966],\n",
       "        [  -4.6317],\n",
       "        [ -76.7146],\n",
       "        [ -67.2816],\n",
       "        [ -12.4644],\n",
       "        [  24.2973],\n",
       "        [  31.4312],\n",
       "        [  34.4411],\n",
       "        [ -74.7682],\n",
       "        [ 160.9960],\n",
       "        [  40.6977],\n",
       "        [  33.4340]])"
      ]
     },
     "execution_count": 13,
     "metadata": {},
     "output_type": "execute_result"
    }
   ],
   "source": [
    "y"
   ]
  },
  {
   "cell_type": "code",
   "execution_count": 14,
   "id": "pursuant-immunology",
   "metadata": {},
   "outputs": [],
   "source": [
    "n_samples, n_feature = X.shape"
   ]
  },
  {
   "cell_type": "code",
   "execution_count": 16,
   "id": "nonprofit-squad",
   "metadata": {},
   "outputs": [
    {
     "name": "stdout",
     "output_type": "stream",
     "text": [
      "100\n",
      "1\n"
     ]
    }
   ],
   "source": [
    "print(n_samples)\n",
    "print(n_feature)"
   ]
  },
  {
   "cell_type": "code",
   "execution_count": 17,
   "id": "waiting-mother",
   "metadata": {},
   "outputs": [],
   "source": [
    "#create model\n",
    "#linear model f = wx + b\n",
    "input_size = n_feature\n",
    "output_size = 1\n",
    "\n",
    "model = nn.Linear(input_size, output_size)"
   ]
  },
  {
   "cell_type": "code",
   "execution_count": 18,
   "id": "iraqi-delight",
   "metadata": {},
   "outputs": [],
   "source": [
    "#Loss and the optimizer\n",
    "learning_rate = 0.01"
   ]
  },
  {
   "cell_type": "code",
   "execution_count": 19,
   "id": "ancient-musical",
   "metadata": {},
   "outputs": [],
   "source": [
    "criterion = nn.MSELoss()\n",
    "optimizer = torch.optim.SGD(model.parameters(), lr = learning_rate)"
   ]
  },
  {
   "cell_type": "code",
   "execution_count": 20,
   "id": "documentary-conversion",
   "metadata": {},
   "outputs": [
    {
     "name": "stdout",
     "output_type": "stream",
     "text": [
      "Epoch : 10, Loss : 3991.5549\n",
      "Epoch : 20, Loss : 2814.5662\n",
      "Epoch : 30, Loss : 2012.1930\n",
      "Epoch : 40, Loss : 1465.0844\n",
      "Epoch : 50, Loss : 1091.9547\n",
      "Epoch : 60, Loss : 837.4267\n",
      "Epoch : 70, Loss : 663.7675\n",
      "Epoch : 80, Loss : 545.2603\n",
      "Epoch : 90, Loss : 464.3741\n",
      "Epoch : 100, Loss : 409.1556\n"
     ]
    },
    {
     "data": {
      "image/png": "[encoded data removed]",
      "text/plain": [
       "<Figure size 432x288 with 1 Axes>"
      ]
     },
     "metadata": {
      "needs_background": "light"
     },
     "output_type": "display_data"
    }
   ],
   "source": [
    "##Training Loop\n",
    "num_epochs = 100\n",
    "for epoch in range(num_epochs):\n",
    "    #forward propagation and loss\n",
    "    y_predicted = model(X)\n",
    "    loss = criterion(y_predicted, y)\n",
    "    \n",
    "    #Backward propagation and update\n",
    "    loss.backward()\n",
    "    optimizer.step()\n",
    "    \n",
    "    #zero grad before new step\n",
    "    optimizer.zero_grad()\n",
    "    \n",
    "    if (epoch +1) % 10 == 0:\n",
    "        print(f\"Epoch : {epoch+1}, Loss : {loss.item():.4f}\")\n",
    "        \n",
    "        \n",
    "#Plot prediction\n",
    "predicted = model(X).detach().numpy()\n",
    "\n",
    "plt.plot(X_numpy, y_numpy, 'ro')\n",
    "plt.plot(X_numpy, predicted, 'b')\n",
    "plt.show()"
   ]
  },
  {
   "cell_type": "code",
   "execution_count": null,
   "id": "humanitarian-integer",
   "metadata": {},
   "outputs": [],
   "source": []
  },
  {
   "cell_type": "code",
   "execution_count": null,
   "id": "international-light",
   "metadata": {},
   "outputs": [],
   "source": []
  },
  {
   "cell_type": "code",
   "execution_count": null,
   "id": "intelligent-temperature",
   "metadata": {},
   "outputs": [],
   "source": []
  }
 ],
 "metadata": {
  "kernelspec": {
   "display_name": "Python 3",
   "language": "python",
   "name": "python3"
  },
  "language_info": {
   "codemirror_mode": {
    "name": "ipython",
    "version": 3
   },
   "file_extension": ".py",
   "mimetype": "text/x-python",
   "name": "python",
   "nbconvert_exporter": "python",
   "pygments_lexer": "ipython3",
   "version": "3.7.7"
  }
 },
 "nbformat": 4,
 "nbformat_minor": 5
}
