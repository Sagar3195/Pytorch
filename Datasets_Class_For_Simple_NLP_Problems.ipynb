{
 "cells": [
  {
   "cell_type": "code",
   "execution_count": 1,
   "id": "african-audio",
   "metadata": {},
   "outputs": [],
   "source": [
    "import torch\n",
    "import numpy as np\n",
    "#import cv2"
   ]
  },
  {
   "cell_type": "code",
   "execution_count": 6,
   "id": "mathematical-stable",
   "metadata": {},
   "outputs": [],
   "source": [
    "#classification problems\n",
    "class CustomDataset:\n",
    "    def __init__(self, data, targets, tokenizer):\n",
    "        self.data = data\n",
    "        self.targets = targets\n",
    "        self.tokenizer = tokenizer\n",
    "        \n",
    "    def __len__(self):\n",
    "        return len(self.data) \n",
    "        \n",
    "    def __getitem__(self, idx):\n",
    "        text = self.data[idx]\n",
    "        if self.target.shape[1] >1:\n",
    "            target = self.target[idx, :]\n",
    "        else:\n",
    "            target = self.target[idx]\n",
    "        input_ids = tokenizer(text) #[102,12,32,...]\n",
    "        return {\n",
    "            \"text\": torch.tensor(input_ids, dtype = torch.long),\n",
    "            \"target\": torch.tensor(target)}"
   ]
  },
  {
   "cell_type": "code",
   "execution_count": null,
   "id": "miniature-luxembourg",
   "metadata": {},
   "outputs": [],
   "source": []
  },
  {
   "cell_type": "code",
   "execution_count": null,
   "id": "thousand-judgment",
   "metadata": {},
   "outputs": [],
   "source": []
  },
  {
   "cell_type": "code",
   "execution_count": null,
   "id": "skilled-crash",
   "metadata": {},
   "outputs": [],
   "source": []
  },
  {
   "cell_type": "code",
   "execution_count": null,
   "id": "stuck-samoa",
   "metadata": {},
   "outputs": [],
   "source": []
  },
  {
   "cell_type": "code",
   "execution_count": null,
   "id": "quiet-cloud",
   "metadata": {},
   "outputs": [],
   "source": []
  }
 ],
 "metadata": {
  "kernelspec": {
   "display_name": "Python 3",
   "language": "python",
   "name": "python3"
  },
  "language_info": {
   "codemirror_mode": {
    "name": "ipython",
    "version": 3
   },
   "file_extension": ".py",
   "mimetype": "text/x-python",
   "name": "python",
   "nbconvert_exporter": "python",
   "pygments_lexer": "ipython3",
   "version": "3.7.7"
  }
 },
 "nbformat": 4,
 "nbformat_minor": 5
}
